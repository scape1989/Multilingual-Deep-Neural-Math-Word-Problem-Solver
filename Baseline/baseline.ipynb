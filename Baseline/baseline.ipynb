{
 "cells": [
  {
   "cell_type": "code",
   "execution_count": 41,
   "metadata": {
    "pycharm": {
     "is_executing": false
    }
   },
   "outputs": [],
   "source": [
    "import pandas as pd\n",
    "import re\n",
    "import spacy\n",
    "import pickle\n",
    "import numpy as np\n",
    "from tqdm import tqdm\n",
    "import matplotlib.pyplot as plt\n",
    "import seaborn as sns\n",
    "from utils import read_file, preprocess, clean_twitter\n",
    "from sklearn.feature_extraction.text import CountVectorizer, TfidfVectorizer\n",
    "from sklearn.model_selection import train_test_split, cross_val_score\n",
    "from sklearn.multiclass import OneVsOneClassifier\n",
    "from sklearn import svm\n",
    "from sklearn.metrics import classification_report\n",
    "from sklearn.ensemble import RandomForestClassifier\n",
    "from sklearn.linear_model import LogisticRegression"
   ]
  },
  {
   "cell_type": "code",
   "execution_count": 2,
   "metadata": {
    "pycharm": {
     "is_executing": false
    }
   },
   "outputs": [],
   "source": [
    "pd.set_option('display.max_colwidth', None)\n",
    "pd.set_option('display.max_rows', 100)"
   ]
  },
  {
   "cell_type": "code",
   "execution_count": 3,
   "metadata": {
    "pycharm": {
     "is_executing": false
    }
   },
   "outputs": [],
   "source": [
    "tqdm.pandas()\n",
    "nlp = spacy.load('en_core_web_sm')"
   ]
  },
  {
   "cell_type": "code",
   "execution_count": 4,
   "metadata": {},
   "outputs": [],
   "source": [
    "data, y = read_file('../hatespeech/', with_evaluation=True)\n",
    "data = [preprocess(text) for text in data]"
   ]
  },
  {
   "cell_type": "code",
   "execution_count": 5,
   "metadata": {},
   "outputs": [],
   "source": [
    "x_train, x_test, y_train, y_test = train_test_split(data, y, test_size=0.2)"
   ]
  },
  {
   "cell_type": "code",
   "execution_count": 27,
   "metadata": {
    "pycharm": {
     "is_executing": false
    }
   },
   "outputs": [
    {
     "name": "stdout",
     "output_type": "stream",
     "text": [
      "              precision    recall  f1-score   support\n",
      "\n",
      "           0       0.97      0.82      0.89     40159\n",
      "           1       0.61      0.88      0.72     10964\n",
      "           2       0.92      0.93      0.92     13639\n",
      "           3       0.60      0.95      0.74      2061\n",
      "\n",
      "    accuracy                           0.86     66823\n",
      "   macro avg       0.78      0.90      0.82     66823\n",
      "weighted avg       0.89      0.86      0.87     66823\n",
      "\n",
      "---------------Test metrics------------------------\n",
      "              precision    recall  f1-score   support\n",
      "\n",
      "           0       0.89      0.75      0.81     10128\n",
      "           1       0.44      0.67      0.53      2644\n",
      "           2       0.88      0.86      0.87      3450\n",
      "           3       0.33      0.56      0.42       484\n",
      "\n",
      "    accuracy                           0.75     16706\n",
      "   macro avg       0.64      0.71      0.66     16706\n",
      "weighted avg       0.80      0.75      0.77     16706\n",
      "\n"
     ]
    }
   ],
   "source": [
    "vectorizer = CountVectorizer(input='content',\n",
    "                             analyzer='word',\n",
    "                             strip_accents='ascii',\n",
    "                             ngram_range=(1,1),\n",
    "                             stop_words='english',\n",
    "                             min_df=2)\n",
    "x = vectorizer.fit_transform(x_train)\n",
    "classifier = OneVsOneClassifier(svm.LinearSVC(class_weight='balanced', C=0.1, max_iter=2000), n_jobs=-1)\n",
    "classifier.fit(x, y_train)\n",
    "y_pred = classifier.predict(x)\n",
    "print(classification_report(y_train, y_pred))\n",
    "print(\"---------------Test metrics------------------------\")\n",
    "x = vectorizer.transform(x_test)\n",
    "y_pred = classifier.predict(x)\n",
    "print(classification_report(y_test, y_pred))"
   ]
  },
  {
   "cell_type": "code",
   "execution_count": 23,
   "metadata": {},
   "outputs": [],
   "source": [
    "# features = np.array(vectorizer.get_feature_names())\n",
    "# features[np.argsort(classifier.estimators_[0].coef_[0])[::-1][:50]]"
   ]
  },
  {
   "cell_type": "code",
   "execution_count": 30,
   "metadata": {
    "pycharm": {
     "is_executing": false
    }
   },
   "outputs": [
    {
     "name": "stdout",
     "output_type": "stream",
     "text": [
      "              precision    recall  f1-score   support\n",
      "\n",
      "           0       0.95      0.79      0.86     40159\n",
      "           1       0.56      0.83      0.67     10964\n",
      "           2       0.91      0.87      0.89     13639\n",
      "           3       0.47      0.91      0.62      2061\n",
      "\n",
      "    accuracy                           0.82     66823\n",
      "   macro avg       0.72      0.85      0.76     66823\n",
      "weighted avg       0.86      0.82      0.83     66823\n",
      "\n",
      "---------------Test metrics------------------------\n",
      "              precision    recall  f1-score   support\n",
      "\n",
      "           0       0.90      0.75      0.82     10128\n",
      "           1       0.46      0.70      0.56      2644\n",
      "           2       0.89      0.83      0.86      3450\n",
      "           3       0.32      0.63      0.42       484\n",
      "\n",
      "    accuracy                           0.76     16706\n",
      "   macro avg       0.64      0.73      0.66     16706\n",
      "weighted avg       0.81      0.76      0.77     16706\n",
      "\n"
     ]
    }
   ],
   "source": [
    "vectorizer = TfidfVectorizer(input='content',\n",
    "                             analyzer='word',\n",
    "                             strip_accents='ascii',\n",
    "                             ngram_range=(1,1),\n",
    "                             stop_words='english',\n",
    "                             min_df=2)\n",
    "x = vectorizer.fit_transform(x_train)\n",
    "classifier = OneVsOneClassifier(svm.LinearSVC(class_weight='balanced', C=0.1, max_iter=2000), n_jobs=-1)\n",
    "classifier.fit(x, y_train)\n",
    "y_pred = classifier.predict(x)\n",
    "print(classification_report(y_train, y_pred))\n",
    "print(\"---------------Test metrics------------------------\")\n",
    "x = vectorizer.transform(x_test)\n",
    "y_pred = classifier.predict(x)\n",
    "print(classification_report(y_test, y_pred))"
   ]
  },
  {
   "cell_type": "code",
   "execution_count": 31,
   "metadata": {},
   "outputs": [
    {
     "name": "stdout",
     "output_type": "stream",
     "text": [
      "              precision    recall  f1-score   support\n",
      "\n",
      "           0       0.94      0.76      0.84     40159\n",
      "           1       0.52      0.81      0.63     10964\n",
      "           2       0.90      0.86      0.88     13639\n",
      "           3       0.42      0.83      0.56      2061\n",
      "\n",
      "    accuracy                           0.79     66823\n",
      "   macro avg       0.70      0.81      0.73     66823\n",
      "weighted avg       0.85      0.79      0.81     66823\n",
      "\n",
      "---------------Test metrics------------------------\n",
      "              precision    recall  f1-score   support\n",
      "\n",
      "           0       0.90      0.73      0.81     10128\n",
      "           1       0.45      0.72      0.55      2644\n",
      "           2       0.89      0.83      0.86      3450\n",
      "           3       0.30      0.61      0.40       484\n",
      "\n",
      "    accuracy                           0.75     16706\n",
      "   macro avg       0.64      0.72      0.66     16706\n",
      "weighted avg       0.81      0.75      0.77     16706\n",
      "\n"
     ]
    }
   ],
   "source": [
    "vectorizer = CountVectorizer(input='content',\n",
    "                             analyzer='word',\n",
    "                             strip_accents='ascii',\n",
    "                             ngram_range=(1,1),\n",
    "                             stop_words='english',\n",
    "                             min_df=2)\n",
    "x = vectorizer.fit_transform(x_train)\n",
    "classifier = OneVsOneClassifier(LogisticRegression(class_weight='balanced', C=0.1, max_iter=2000), n_jobs=-1)\n",
    "classifier.fit(x, y_train)\n",
    "y_pred = classifier.predict(x)\n",
    "print(classification_report(y_train, y_pred))\n",
    "print(\"---------------Test metrics------------------------\")\n",
    "x = vectorizer.transform(x_test)\n",
    "y_pred = classifier.predict(x)\n",
    "print(classification_report(y_test, y_pred))"
   ]
  },
  {
   "cell_type": "code",
   "execution_count": 32,
   "metadata": {
    "pycharm": {
     "is_executing": false
    }
   },
   "outputs": [
    {
     "name": "stdout",
     "output_type": "stream",
     "text": [
      "              precision    recall  f1-score   support\n",
      "\n",
      "           0       0.91      0.76      0.82     40159\n",
      "           1       0.49      0.77      0.60     10964\n",
      "           2       0.91      0.81      0.86     13639\n",
      "           3       0.37      0.70      0.48      2061\n",
      "\n",
      "    accuracy                           0.77     66823\n",
      "   macro avg       0.67      0.76      0.69     66823\n",
      "weighted avg       0.82      0.77      0.78     66823\n",
      "\n",
      "---------------Test metrics------------------------\n",
      "              precision    recall  f1-score   support\n",
      "\n",
      "           0       0.89      0.74      0.81     10128\n",
      "           1       0.45      0.72      0.55      2644\n",
      "           2       0.90      0.79      0.84      3450\n",
      "           3       0.30      0.62      0.40       484\n",
      "\n",
      "    accuracy                           0.74     16706\n",
      "   macro avg       0.63      0.72      0.65     16706\n",
      "weighted avg       0.80      0.74      0.76     16706\n",
      "\n"
     ]
    }
   ],
   "source": [
    "vectorizer = TfidfVectorizer(input='content',\n",
    "                             analyzer='word',\n",
    "                             strip_accents='ascii',\n",
    "                             ngram_range=(1,1),\n",
    "                             stop_words='english',\n",
    "                             min_df=2)\n",
    "x = vectorizer.fit_transform(x_train)\n",
    "classifier = OneVsOneClassifier(LogisticRegression(class_weight='balanced', C=0.1, max_iter=2000), n_jobs=-1)\n",
    "classifier.fit(x, y_train)\n",
    "y_pred = classifier.predict(x)\n",
    "print(classification_report(y_train, y_pred))\n",
    "print(\"---------------Test metrics------------------------\")\n",
    "x = vectorizer.transform(x_test)\n",
    "y_pred = classifier.predict(x)\n",
    "print(classification_report(y_test, y_pred))"
   ]
  },
  {
   "cell_type": "code",
   "execution_count": 34,
   "metadata": {
    "pycharm": {
     "is_executing": false
    }
   },
   "outputs": [
    {
     "name": "stdout",
     "output_type": "stream",
     "text": [
      "              precision    recall  f1-score   support\n",
      "\n",
      "           0       0.99      0.99      0.99     40159\n",
      "           1       0.96      0.94      0.95     10964\n",
      "           2       0.99      1.00      0.99     13639\n",
      "           3       0.99      0.98      0.99      2061\n",
      "\n",
      "    accuracy                           0.98     66823\n",
      "   macro avg       0.98      0.98      0.98     66823\n",
      "weighted avg       0.98      0.98      0.98     66823\n",
      "\n",
      "---------------Test metrics------------------------\n",
      "              precision    recall  f1-score   support\n",
      "\n",
      "           0       0.83      0.91      0.86     10128\n",
      "           1       0.56      0.36      0.44      2644\n",
      "           2       0.86      0.92      0.89      3450\n",
      "           3       0.60      0.21      0.31       484\n",
      "\n",
      "    accuracy                           0.80     16706\n",
      "   macro avg       0.71      0.60      0.63     16706\n",
      "weighted avg       0.78      0.80      0.79     16706\n",
      "\n"
     ]
    }
   ],
   "source": [
    "vectorizer = CountVectorizer(input='content',\n",
    "                             analyzer='word',\n",
    "                             strip_accents='ascii',\n",
    "                             ngram_range=(1,1),\n",
    "                             stop_words='english',\n",
    "                             min_df=2)\n",
    "x = vectorizer.fit_transform(x_train)\n",
    "classifier = RandomForestClassifier(n_estimators = 100, criterion = 'gini', random_state = 42)\n",
    "classifier.fit(x, y_train)\n",
    "y_pred = classifier.predict(x)\n",
    "print(classification_report(y_train, y_pred))\n",
    "print(\"---------------Test metrics------------------------\")\n",
    "x = vectorizer.transform(x_test)\n",
    "y_pred = classifier.predict(x)\n",
    "print(classification_report(y_test, y_pred))"
   ]
  },
  {
   "cell_type": "code",
   "execution_count": 38,
   "metadata": {
    "pycharm": {
     "is_executing": false
    }
   },
   "outputs": [
    {
     "data": {
      "text/plain": [
       "array(['fuck', 'bitch', 'idiot', 'ass', 'nigga', 'shit', 'hate', 'stupid',\n",
       "       'free', 'damn', 'new', 'thi', 'bad', 'love', 'video', 'ugli', 'wa',\n",
       "       'pussi', 'fuckin', 'check', 'click', 'like', 'dick', 'just', 'don',\n",
       "       'download', 'wanna', 'good', 'sick', 'enter', 'thank', 'time',\n",
       "       'black', 'hell', 'retard', 'nasti', 'girl', 'say', 'know', 'ha',\n",
       "       'think', 'hi', 'mad', 'join', 'sex', 'great', 'vintag', 'bullshit',\n",
       "       'peopl', 'want'], dtype='<U21')"
      ]
     },
     "execution_count": 38,
     "metadata": {},
     "output_type": "execute_result"
    }
   ],
   "source": [
    "features = np.array(vectorizer.get_feature_names())\n",
    "features[np.argsort(classifier.feature_importances_)[::-1]][:50]"
   ]
  },
  {
   "cell_type": "code",
   "execution_count": 42,
   "metadata": {
    "pycharm": {
     "is_executing": false
    }
   },
   "outputs": [],
   "source": [
    "data, y = read_file('../hatespeech/', with_evaluation=True)\n",
    "data = [clean_twitter(text) for text in data]\n",
    "df = pd.DataFrame(columns=['text', 'label'])\n",
    "df['text'] = data\n",
    "df['label'] = y"
   ]
  },
  {
   "cell_type": "code",
   "execution_count": 44,
   "metadata": {},
   "outputs": [],
   "source": [
    "df.to_pickle('~/df.pkl')"
   ]
  },
  {
   "cell_type": "code",
   "execution_count": null,
   "metadata": {
    "pycharm": {
     "is_executing": false
    }
   },
   "outputs": [],
   "source": [
    "df_abusive = df[df['label'] == 'abusive']"
   ]
  },
  {
   "cell_type": "code",
   "execution_count": null,
   "metadata": {
    "pycharm": {
     "is_executing": false
    }
   },
   "outputs": [],
   "source": [
    "df_abusive['cleaned'] = df_abusive['text'].apply(lambda x : clean(x))\n",
    "df_abusive['lemmatized'] = df_abusive['cleaned'].apply(lambda x: lemmatize(x))"
   ]
  },
  {
   "cell_type": "code",
   "execution_count": null,
   "metadata": {
    "pycharm": {
     "is_executing": false
    }
   },
   "outputs": [],
   "source": [
    "bow_vectorizer = CountVectorizer(input='content',\n",
    "                                 analyzer='word',\n",
    "                                 strip_accents='ascii',\n",
    "                                 ngram_range=(2,5),\n",
    "                                 stop_words='english',\n",
    "                                 min_df=10)\n",
    "X = bow_vectorizer.fit_transform(df_abusive['lemmatized'])"
   ]
  },
  {
   "cell_type": "code",
   "execution_count": null,
   "metadata": {
    "pycharm": {
     "is_executing": false
    }
   },
   "outputs": [],
   "source": [
    "feature_names = np.array(bow_vectorizer.get_feature_names())\n",
    "feature_names[np.argsort(np.array(X.sum(axis=0))[0])[::-1]][:50].tolist()"
   ]
  },
  {
   "cell_type": "code",
   "execution_count": null,
   "metadata": {
    "pycharm": {
     "is_executing": false
    }
   },
   "outputs": [],
   "source": [
    "tfidf_vectorizer = TfidfVectorizer(input='content',\n",
    "                                   analyzer='word',\n",
    "                                   strip_accents='ascii',\n",
    "                                   ngram_range=(1,3),\n",
    "                                   min_df=5,\n",
    "                                   stop_words='english',\n",
    "                                   use_idf = True)"
   ]
  },
  {
   "cell_type": "code",
   "execution_count": null,
   "metadata": {
    "pycharm": {
     "is_executing": false
    }
   },
   "outputs": [],
   "source": [
    "trainX = tfidf_vectorizer.fit_transform(train_df['lemmatized'])\n",
    "testX = tfidf_vectorizer.transform(test_df['lemmatized'])"
   ]
  },
  {
   "cell_type": "code",
   "execution_count": null,
   "metadata": {
    "pycharm": {
     "is_executing": false
    }
   },
   "outputs": [],
   "source": [
    "features = tfidf_vectorizer.get_feature_names()\n",
    "len(features)"
   ]
  },
  {
   "cell_type": "code",
   "execution_count": null,
   "metadata": {
    "pycharm": {
     "is_executing": false
    }
   },
   "outputs": [],
   "source": [
    "rf_classifier = RandomForestClassifier(n_estimators = 100, criterion = 'gini', random_state = 42) #entropy\n",
    "rf_classifier.fit(trainX, trainY)"
   ]
  },
  {
   "cell_type": "code",
   "execution_count": null,
   "metadata": {
    "pycharm": {
     "is_executing": false
    }
   },
   "outputs": [],
   "source": [
    "predY = rf_classifier.predict(trainX)\n",
    "print(classification_report(trainY, predY))"
   ]
  },
  {
   "cell_type": "code",
   "execution_count": null,
   "metadata": {
    "pycharm": {
     "is_executing": false
    }
   },
   "outputs": [],
   "source": [
    "predY = rf_classifier.predict(testX)\n",
    "print(classification_report(testY, predY))"
   ]
  },
  {
   "cell_type": "code",
   "execution_count": null,
   "metadata": {
    "pycharm": {
     "is_executing": false
    }
   },
   "outputs": [],
   "source": [
    "rf_imps = rf_classifier.feature_importances_\n",
    "sort_ind = np.argsort(rf_imps)\n",
    "top_n = sort_ind[::-1][:100]\n",
    "sorted_imps = rf_imps[top_n]\n",
    "top_feats = np.array(features)[top_n]\n",
    "\n",
    "plt.figure(figsize=(6, 30))\n",
    "plt.xlabel('Relative Importance', fontsize=20)\n",
    "plt.ylabel('Feature', fontsize=20)\n",
    "sns.barplot(y = top_feats, x = sorted_imps)\n",
    "plt.tick_params(labelsize=20)\n",
    "plt.show()"
   ]
  },
  {
   "cell_type": "code",
   "execution_count": null,
   "metadata": {
    "pycharm": {
     "is_executing": false
    }
   },
   "outputs": [],
   "source": [
    "np.array(features)[top_n]"
   ]
  },
  {
   "cell_type": "code",
   "execution_count": null,
   "metadata": {
    "pycharm": {
     "is_executing": false
    }
   },
   "outputs": [],
   "source": [
    "lr_classifier = OneVsOneClassifier(LogisticRegression(class_weight='balanced', C=1, max_iter=7000), n_jobs=-1)\n",
    "lr_classifier.fit(trainX, trainY)"
   ]
  },
  {
   "cell_type": "code",
   "execution_count": null,
   "metadata": {
    "pycharm": {
     "is_executing": false
    }
   },
   "outputs": [],
   "source": [
    "predY = lr_classifier.predict(trainX)\n",
    "print(classification_report(trainY, predY))"
   ]
  },
  {
   "cell_type": "code",
   "execution_count": null,
   "metadata": {
    "pycharm": {
     "is_executing": false
    }
   },
   "outputs": [],
   "source": [
    "predY = lr_classifier.predict(testX)\n",
    "print(classification_report(testY, predY))"
   ]
  }
 ],
 "metadata": {
  "kernelspec": {
   "display_name": "Python 3",
   "language": "python",
   "name": "python3"
  },
  "language_info": {
   "codemirror_mode": {
    "name": "ipython",
    "version": 3
   },
   "file_extension": ".py",
   "mimetype": "text/x-python",
   "name": "python",
   "nbconvert_exporter": "python",
   "pygments_lexer": "ipython3",
   "version": "3.6.1"
  }
 },
 "nbformat": 4,
 "nbformat_minor": 1
}

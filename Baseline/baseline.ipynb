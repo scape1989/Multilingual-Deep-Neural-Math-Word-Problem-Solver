{
 "cells": [
  {
   "cell_type": "code",
   "execution_count": 30,
   "metadata": {
    "pycharm": {
     "is_executing": false
    }
   },
   "outputs": [],
   "source": [
    "import pandas as pd\n",
    "import pickle\n",
    "import numpy as np\n",
    "import matplotlib.pyplot as plt\n",
    "import seaborn as sns\n",
    "from sklearn.feature_extraction.text import CountVectorizer, TfidfVectorizer\n",
    "from sklearn.model_selection import train_test_split, cross_val_score\n",
    "from sklearn.metrics import classification_report, accuracy_score\n",
    "import json"
   ]
  },
  {
   "cell_type": "code",
   "execution_count": 3,
   "metadata": {
    "pycharm": {
     "is_executing": false
    }
   },
   "outputs": [],
   "source": [
    "pd.set_option('display.max_colwidth', None)\n",
    "pd.set_option('display.max_rows', 100)"
   ]
  },
  {
   "cell_type": "code",
   "execution_count": 4,
   "metadata": {},
   "outputs": [],
   "source": [
    "def read_data_json(filename):\n",
    "    with open(filename, 'r') as f:\n",
    "        return json.load(f)"
   ]
  },
  {
   "cell_type": "code",
   "execution_count": 11,
   "metadata": {},
   "outputs": [
    {
     "name": "stdout",
     "output_type": "stream",
     "text": [
      "32532\n"
     ]
    }
   ],
   "source": [
    "dataset = read_data_json('../data/final_combined_replicate.json')\n",
    "ids = list(dataset.keys())\n",
    "print(len(ids))"
   ]
  },
  {
   "cell_type": "code",
   "execution_count": 13,
   "metadata": {},
   "outputs": [
    {
     "name": "stdout",
     "output_type": "stream",
     "text": [
      "6506\n"
     ]
    }
   ],
   "source": [
    "valid_ids = read_data_json('../data/valid_ids.json')\n",
    "print(len(valid_ids))"
   ]
  },
  {
   "cell_type": "code",
   "execution_count": 15,
   "metadata": {},
   "outputs": [
    {
     "name": "stdout",
     "output_type": "stream",
     "text": [
      "6506\n"
     ]
    }
   ],
   "source": [
    "test_ids = []\n",
    "with open('../data/id_ans_test', 'r') as f:\n",
    "    for line in f:\n",
    "        test_id = line.strip().split('\\t')[0]\n",
    "        test_ids.append(test_id)\n",
    "print(len(test_ids))"
   ]
  },
  {
   "cell_type": "code",
   "execution_count": 16,
   "metadata": {},
   "outputs": [
    {
     "name": "stdout",
     "output_type": "stream",
     "text": [
      "21848\n"
     ]
    }
   ],
   "source": [
    "train_ids = []\n",
    "for i in ids:\n",
    "    if i not in test_ids and i not in valid_ids:\n",
    "        train_ids.append(i)\n",
    "print(len(train_ids))"
   ]
  },
  {
   "cell_type": "code",
   "execution_count": 10,
   "metadata": {},
   "outputs": [
    {
     "data": {
      "text/plain": [
       "{'text': '镇海 雅乐 学校 二年级 的 小朋友 到 一条 小路 的 一边 植树 ． 小朋友 们 每隔 temp_a 米 种 一棵树 （ 马路 两头 都 种 了 树 ） ， 最后 发现 一共 种 了 temp_b 棵 ， 这 条 小路 长 多少 米 ．',\n",
       " 'target_template': ['x', '=', '(', 'temp_b', '-', '1', ')', '*', 'temp_a'],\n",
       " 'gen_template': [],\n",
       " 'num_list': ['2', '11'],\n",
       " 'ans': '20',\n",
       " 'numtemp_order': ['temp_a', 'temp_b'],\n",
       " 'num_position': [16, 34],\n",
       " 'post_template': ['temp_b', '1', '-', 'temp_a', '*']}"
      ]
     },
     "execution_count": 10,
     "metadata": {},
     "output_type": "execute_result"
    }
   ],
   "source": [
    "dataset['0']"
   ]
  },
  {
   "cell_type": "code",
   "execution_count": 19,
   "metadata": {},
   "outputs": [],
   "source": [
    "def get_x_y(ids):\n",
    "    x = []\n",
    "    y = []\n",
    "    for id in ids:\n",
    "        x.append(dataset[id]['text'])\n",
    "        y.append(dataset[id]['ans'])\n",
    "    return x,y"
   ]
  },
  {
   "cell_type": "code",
   "execution_count": 28,
   "metadata": {},
   "outputs": [],
   "source": [
    "x_train, y_train = get_x_y(train_ids)"
   ]
  },
  {
   "cell_type": "code",
   "execution_count": 29,
   "metadata": {},
   "outputs": [],
   "source": [
    "x_test, y_test = get_x_y(test_ids)\n",
    "x_val, y_val = get_x_y(valid_ids)"
   ]
  },
  {
   "cell_type": "code",
   "execution_count": null,
   "metadata": {},
   "outputs": [],
   "source": [
    "def get_accuracy(y1, y2):\n",
    "    acc = 0\n",
    "    for i in range(len(y1)):\n",
    "        gold_ans = y1[i]\n",
    "        pred_ans = y2[i]\n",
    "        if ';' in gold_ans:\n",
    "            anss = gold_ans.split(';')\n",
    "            ans1 = anss[0]\n",
    "            ans2 = anss[1]\n",
    "            if abs(float(pred_ans)-float(ans1)) < 1e-5 or abs(float(pred_ans)-float(ans2)) < 1e-5:\n",
    "                acc += 1\n",
    "        else:\n",
    "            if abs(float(pred_ans)-float(gold_ans)) < 1e-5:\n",
    "                acc += 1\n",
    "return acc/len(y1)"
   ]
  },
  {
   "cell_type": "code",
   "execution_count": 30,
   "metadata": {
    "pycharm": {
     "is_executing": false
    }
   },
   "outputs": [
    {
     "name": "stdout",
     "output_type": "stream",
     "text": [
      "              precision    recall  f1-score   support\n",
      "\n",
      "           0       0.95      0.79      0.86     40159\n",
      "           1       0.56      0.83      0.67     10964\n",
      "           2       0.91      0.87      0.89     13639\n",
      "           3       0.47      0.91      0.62      2061\n",
      "\n",
      "    accuracy                           0.82     66823\n",
      "   macro avg       0.72      0.85      0.76     66823\n",
      "weighted avg       0.86      0.82      0.83     66823\n",
      "\n",
      "---------------Test metrics------------------------\n",
      "              precision    recall  f1-score   support\n",
      "\n",
      "           0       0.90      0.75      0.82     10128\n",
      "           1       0.46      0.70      0.56      2644\n",
      "           2       0.89      0.83      0.86      3450\n",
      "           3       0.32      0.63      0.42       484\n",
      "\n",
      "    accuracy                           0.76     16706\n",
      "   macro avg       0.64      0.73      0.66     16706\n",
      "weighted avg       0.81      0.76      0.77     16706\n",
      "\n"
     ]
    }
   ],
   "source": [
    "vectorizer = TfidfVectorizer(input='content',\n",
    "                             analyzer='word',\n",
    "                             strip_accents='ascii',\n",
    "                             ngram_range=(1,3),\n",
    "                           #  stop_words='english',\n",
    "                            # min_df=2\n",
    "                            )\n",
    "x = vectorizer.fit_transform(x_train)\n",
    "\n",
    "lr = LinearRegression().fit(x, y_train)\n",
    "\n",
    "y_pred = lr.predict(x)\n",
    "print(get_accuracy(y_train, y_pred))\n",
    "print(\"---------------Val metrics------------------------\")\n",
    "x = vectorizer.transform(x_val)\n",
    "y_pred = lr.predict(x)\n",
    "print(get_accuracy(y_val, y_pred))\n",
    "print(\"---------------Test metrics------------------------\")\n",
    "x = vectorizer.transform(x_test)\n",
    "y_pred = lr.predict(x)\n",
    "print(classification_report(y_test, y_pred))"
   ]
  },
  {
   "cell_type": "code",
   "execution_count": 32,
   "metadata": {
    "pycharm": {
     "is_executing": false
    }
   },
   "outputs": [
    {
     "name": "stdout",
     "output_type": "stream",
     "text": [
      "              precision    recall  f1-score   support\n",
      "\n",
      "           0       0.91      0.76      0.82     40159\n",
      "           1       0.49      0.77      0.60     10964\n",
      "           2       0.91      0.81      0.86     13639\n",
      "           3       0.37      0.70      0.48      2061\n",
      "\n",
      "    accuracy                           0.77     66823\n",
      "   macro avg       0.67      0.76      0.69     66823\n",
      "weighted avg       0.82      0.77      0.78     66823\n",
      "\n",
      "---------------Test metrics------------------------\n",
      "              precision    recall  f1-score   support\n",
      "\n",
      "           0       0.89      0.74      0.81     10128\n",
      "           1       0.45      0.72      0.55      2644\n",
      "           2       0.90      0.79      0.84      3450\n",
      "           3       0.30      0.62      0.40       484\n",
      "\n",
      "    accuracy                           0.74     16706\n",
      "   macro avg       0.63      0.72      0.65     16706\n",
      "weighted avg       0.80      0.74      0.76     16706\n",
      "\n"
     ]
    }
   ],
   "source": [
    "vectorizer = TfidfVectorizer(input='content',\n",
    "                             analyzer='word',\n",
    "                             strip_accents='ascii',\n",
    "                             ngram_range=(1,1),\n",
    "                             stop_words='english',\n",
    "                             min_df=2)\n",
    "x = vectorizer.fit_transform(x_train)\n",
    "classifier = OneVsOneClassifier(LogisticRegression(class_weight='balanced', C=0.1, max_iter=2000), n_jobs=-1)\n",
    "classifier.fit(x, y_train)\n",
    "y_pred = classifier.predict(x)\n",
    "print(classification_report(y_train, y_pred))\n",
    "print(\"---------------Test metrics------------------------\")\n",
    "x = vectorizer.transform(x_test)\n",
    "y_pred = classifier.predict(x)\n",
    "print(classification_report(y_test, y_pred))"
   ]
  }
 ],
 "metadata": {
  "kernelspec": {
   "display_name": "Python 3",
   "language": "python",
   "name": "python3"
  },
  "language_info": {
   "codemirror_mode": {
    "name": "ipython",
    "version": 3
   },
   "file_extension": ".py",
   "mimetype": "text/x-python",
   "name": "python",
   "nbconvert_exporter": "python",
   "pygments_lexer": "ipython3",
   "version": "3.7.3"
  }
 },
 "nbformat": 4,
 "nbformat_minor": 1
}

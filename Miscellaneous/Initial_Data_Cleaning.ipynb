{
 "cells": [
  {
   "cell_type": "markdown",
   "metadata": {
    "colab_type": "text",
    "id": "ihfXrF0zE-5H"
   },
   "source": [
    "# Preparing Dolphin\n",
    "\n",
    "This notebook filters Dolphin for single variable equations and gives a clean text"
   ]
  },
  {
   "cell_type": "code",
   "execution_count": 1,
   "metadata": {
    "colab": {
     "base_uri": "https://localhost:8080/",
     "height": 35
    },
    "colab_type": "code",
    "id": "ivCIhm4zyRyI",
    "outputId": "69d1f301-789c-4c09-8059-bb9a72a53c1a"
   },
   "outputs": [
    {
     "name": "stdout",
     "output_type": "stream",
     "text": [
      "Libraries Imported\n"
     ]
    }
   ],
   "source": [
    "import json, csv\n",
    "import numpy as np\n",
    "import pandas as pd\n",
    "import re\n",
    "import warnings\n",
    "\n",
    "warnings.filterwarnings('ignore')\n",
    "\n",
    "print(\"Libraries Imported\")"
   ]
  },
  {
   "cell_type": "code",
   "execution_count": 2,
   "metadata": {
    "colab": {},
    "colab_type": "code",
    "id": "mvxifhcnAx6h"
   },
   "outputs": [],
   "source": [
    "def getText(doc):\n",
    "  doc =  str(doc)\n",
    "  doc = doc.lower().strip()\n",
    "  doc = re.sub('\\n', ' ', doc)\n",
    "  doc = re.sub(r'\\s+', ' ', doc)\n",
    "  m = re.search(r'<meta property=\\\"og:title\\\" content=\\\"(.*?)\\\"/>',doc)\n",
    "  m1 = re.search(r'<meta property=\\\"og:description\\\" content=\\\"(.*?)\\\"/>',doc)\n",
    "\n",
    "  if m != None and m1!= None:\n",
    "    text = str(m.group(1)) + ' ' + str(m1.group(1))\n",
    "  else:\n",
    "    text  = \"No match\"\n",
    "\n",
    "  return text"
   ]
  },
  {
   "cell_type": "markdown",
   "metadata": {
    "colab_type": "text",
    "id": "8EXob7wzFNcz"
   },
   "source": [
    "Preparing Datasets\n",
    "--"
   ]
  },
  {
   "cell_type": "code",
   "execution_count": 3,
   "metadata": {
    "colab": {},
    "colab_type": "code",
    "id": "YgcH2x0NY6Rz"
   },
   "outputs": [],
   "source": [
    "data = pd.read_json('dev_cleaned.json')\n",
    "\n",
    "for i, row in data.iterrows():\n",
    "  if re.match(r\"^\\\"/><meta property=\\\"\", row['original_text']) == None:\n",
    "    text = getText(row['original_text'])\n",
    "    if text != \"No match\":\n",
    "      data.at[i,'text'] = text\n",
    "  items = row['equations'].split(\"\\r\\n\")\n",
    "  data.at[i,'nequ'] = len(items)"
   ]
  },
  {
   "cell_type": "code",
   "execution_count": 8,
   "metadata": {
    "colab": {},
    "colab_type": "code",
    "id": "00sJsbIPc18g"
   },
   "outputs": [
    {
     "data": {
      "text/html": [
       "<div>\n",
       "<style scoped>\n",
       "    .dataframe tbody tr th:only-of-type {\n",
       "        vertical-align: middle;\n",
       "    }\n",
       "\n",
       "    .dataframe tbody tr th {\n",
       "        vertical-align: top;\n",
       "    }\n",
       "\n",
       "    .dataframe thead th {\n",
       "        text-align: right;\n",
       "    }\n",
       "</style>\n",
       "<table border=\"1\" class=\"dataframe\">\n",
       "  <thead>\n",
       "    <tr style=\"text-align: right;\">\n",
       "      <th></th>\n",
       "      <th>original_text</th>\n",
       "      <th>text</th>\n",
       "      <th>sources</th>\n",
       "      <th>flag</th>\n",
       "      <th>ans</th>\n",
       "      <th>equations</th>\n",
       "      <th>id</th>\n",
       "      <th>nequ</th>\n",
       "    </tr>\n",
       "  </thead>\n",
       "  <tbody>\n",
       "    <tr>\n",
       "      <th>0</th>\n",
       "      <td>\"/&gt;&lt;meta property=\"og:site_name\" content=\"Yaho...</td>\n",
       "      <td>One number is 3 less than a second number. Twi...</td>\n",
       "      <td>[https://answers.yahoo.com/question/index?qid=...</td>\n",
       "      <td>0</td>\n",
       "      <td>6; 9</td>\n",
       "      <td>unkn: x,y\\r\\nequ: x + 3 = y\\r\\nequ: 2*y + 12 =...</td>\n",
       "      <td>yahoo.answers.20091227181039aazhen8</td>\n",
       "      <td>3.0</td>\n",
       "    </tr>\n",
       "    <tr>\n",
       "      <th>1</th>\n",
       "      <td>\"/&gt;&lt;meta property=\"og:site_name\" content=\"Yaho...</td>\n",
       "      <td>A number is 12 less than another.  The sum of ...</td>\n",
       "      <td>[https://answers.yahoo.com/question/index?qid=...</td>\n",
       "      <td>0</td>\n",
       "      <td>{8; 20}</td>\n",
       "      <td>unkn: m,n\\r\\nequ: m = n - 12\\r\\nequ: m + n = 28</td>\n",
       "      <td>yahoo.answers.20070524141453aahh0nv</td>\n",
       "      <td>3.0</td>\n",
       "    </tr>\n",
       "    <tr>\n",
       "      <th>2</th>\n",
       "      <td>\"/&gt;&lt;meta property=\"og:site_name\" content=\"Yaho...</td>\n",
       "      <td>The sum of two numbers is twenty-three, and th...</td>\n",
       "      <td>[https://answers.yahoo.com/question/index?qid=...</td>\n",
       "      <td>0</td>\n",
       "      <td>{9; 14}</td>\n",
       "      <td>unkn: x,y\\r\\nequ: x + y = 23\\r\\nequ: x = 5 + y</td>\n",
       "      <td>yahoo.answers.20091207064212aaklfpn</td>\n",
       "      <td>3.0</td>\n",
       "    </tr>\n",
       "    <tr>\n",
       "      <th>3</th>\n",
       "      <td>\"/&gt;&lt;meta property=\"og:site_name\" content=\"Yaho...</td>\n",
       "      <td>Find two numbers with sum 10 and product 20.\"/...</td>\n",
       "      <td>[https://answers.yahoo.com/question/index?qid=...</td>\n",
       "      <td>0</td>\n",
       "      <td>{2.764; 7.236}</td>\n",
       "      <td>unkn: x, y\\r\\nequ: x + y = 10\\r\\nequ: x * y = 20</td>\n",
       "      <td>yahoo.answers.20070527111158aax4f93</td>\n",
       "      <td>3.0</td>\n",
       "    </tr>\n",
       "    <tr>\n",
       "      <th>4</th>\n",
       "      <td>\"/&gt;&lt;meta property=\"og:site_name\" content=\"Yaho...</td>\n",
       "      <td>The sum of two numbers is 91.  The larger numb...</td>\n",
       "      <td>[https://answers.yahoo.com/question/index?qid=...</td>\n",
       "      <td>0</td>\n",
       "      <td>{18; 73}</td>\n",
       "      <td>unkn: x,y\\r\\nequ: x + y = 91\\r\\nequ: x = 1 + 4*y</td>\n",
       "      <td>yahoo.answers.20080911174339aamgdzd</td>\n",
       "      <td>3.0</td>\n",
       "    </tr>\n",
       "  </tbody>\n",
       "</table>\n",
       "</div>"
      ],
      "text/plain": [
       "                                       original_text  \\\n",
       "0  \"/><meta property=\"og:site_name\" content=\"Yaho...   \n",
       "1  \"/><meta property=\"og:site_name\" content=\"Yaho...   \n",
       "2  \"/><meta property=\"og:site_name\" content=\"Yaho...   \n",
       "3  \"/><meta property=\"og:site_name\" content=\"Yaho...   \n",
       "4  \"/><meta property=\"og:site_name\" content=\"Yaho...   \n",
       "\n",
       "                                                text  \\\n",
       "0  One number is 3 less than a second number. Twi...   \n",
       "1  A number is 12 less than another.  The sum of ...   \n",
       "2  The sum of two numbers is twenty-three, and th...   \n",
       "3  Find two numbers with sum 10 and product 20.\"/...   \n",
       "4  The sum of two numbers is 91.  The larger numb...   \n",
       "\n",
       "                                             sources  flag             ans  \\\n",
       "0  [https://answers.yahoo.com/question/index?qid=...     0            6; 9   \n",
       "1  [https://answers.yahoo.com/question/index?qid=...     0         {8; 20}   \n",
       "2  [https://answers.yahoo.com/question/index?qid=...     0         {9; 14}   \n",
       "3  [https://answers.yahoo.com/question/index?qid=...     0  {2.764; 7.236}   \n",
       "4  [https://answers.yahoo.com/question/index?qid=...     0        {18; 73}   \n",
       "\n",
       "                                           equations  \\\n",
       "0  unkn: x,y\\r\\nequ: x + 3 = y\\r\\nequ: 2*y + 12 =...   \n",
       "1    unkn: m,n\\r\\nequ: m = n - 12\\r\\nequ: m + n = 28   \n",
       "2     unkn: x,y\\r\\nequ: x + y = 23\\r\\nequ: x = 5 + y   \n",
       "3   unkn: x, y\\r\\nequ: x + y = 10\\r\\nequ: x * y = 20   \n",
       "4   unkn: x,y\\r\\nequ: x + y = 91\\r\\nequ: x = 1 + 4*y   \n",
       "\n",
       "                                    id  nequ  \n",
       "0  yahoo.answers.20091227181039aazhen8   3.0  \n",
       "1  yahoo.answers.20070524141453aahh0nv   3.0  \n",
       "2  yahoo.answers.20091207064212aaklfpn   3.0  \n",
       "3  yahoo.answers.20070527111158aax4f93   3.0  \n",
       "4  yahoo.answers.20080911174339aamgdzd   3.0  "
      ]
     },
     "execution_count": 8,
     "metadata": {},
     "output_type": "execute_result"
    }
   ],
   "source": [
    "data.head()"
   ]
  },
  {
   "cell_type": "code",
   "execution_count": 9,
   "metadata": {
    "colab": {},
    "colab_type": "code",
    "id": "00sJsbIPc18g"
   },
   "outputs": [],
   "source": [
    "data = data.loc[data['nequ'] == 2]\n",
    "\n",
    "data[[\"unknowns\",\"equations\"]] = data[\"equations\"].str.split(\"\\r\\n\", 1, expand = True)\n",
    "\n",
    "data[\"unknowns\"] = data[\"unknowns\"].str[6:]\n",
    "\n",
    "data[\"equations\"] = data[\"equations\"].str[5:]\n",
    "\n",
    "data = data[[\"text\",\"ans\",\"equations\",\"unknowns\"]]"
   ]
  },
  {
   "cell_type": "code",
   "execution_count": 14,
   "metadata": {
    "colab": {
     "base_uri": "https://localhost:8080/",
     "height": 173
    },
    "colab_type": "code",
    "id": "iQCi_lZnJKwi",
    "outputId": "e9d64326-09e4-4a8b-f5ea-95e3209ad1de"
   },
   "outputs": [
    {
     "name": "stdout",
     "output_type": "stream",
     "text": [
      "(1571, 4)\n"
     ]
    },
    {
     "data": {
      "text/html": [
       "<div>\n",
       "<style scoped>\n",
       "    .dataframe tbody tr th:only-of-type {\n",
       "        vertical-align: middle;\n",
       "    }\n",
       "\n",
       "    .dataframe tbody tr th {\n",
       "        vertical-align: top;\n",
       "    }\n",
       "\n",
       "    .dataframe thead th {\n",
       "        text-align: right;\n",
       "    }\n",
       "</style>\n",
       "<table border=\"1\" class=\"dataframe\">\n",
       "  <thead>\n",
       "    <tr style=\"text-align: right;\">\n",
       "      <th></th>\n",
       "      <th>text</th>\n",
       "      <th>ans</th>\n",
       "      <th>equations</th>\n",
       "      <th>unknowns</th>\n",
       "    </tr>\n",
       "  </thead>\n",
       "  <tbody>\n",
       "    <tr>\n",
       "      <th>5</th>\n",
       "      <td>What is the sum of the distinct prime factors ...</td>\n",
       "      <td>226</td>\n",
       "      <td>s = 3 + 223</td>\n",
       "      <td>s</td>\n",
       "    </tr>\n",
       "    <tr>\n",
       "      <th>6</th>\n",
       "      <td>Fifteen more than four times a number is 6 mor...</td>\n",
       "      <td>9</td>\n",
       "      <td>15 + 4*n = 6 + 5*n</td>\n",
       "      <td>n</td>\n",
       "    </tr>\n",
       "    <tr>\n",
       "      <th>7</th>\n",
       "      <td>5 less than 6 times a whole number is 9 less t...</td>\n",
       "      <td>2</td>\n",
       "      <td>6*n - 5 = 8*n - 9</td>\n",
       "      <td>n</td>\n",
       "    </tr>\n",
       "    <tr>\n",
       "      <th>10</th>\n",
       "      <td>1/3 of a number is 5 less than half of the sam...</td>\n",
       "      <td>30</td>\n",
       "      <td>1/3 * x = 1/2 * x - 5</td>\n",
       "      <td>x</td>\n",
       "    </tr>\n",
       "    <tr>\n",
       "      <th>11</th>\n",
       "      <td>I think of a number multiply it by 8 then subt...</td>\n",
       "      <td>11</td>\n",
       "      <td>8*x - 66 = 2*x</td>\n",
       "      <td>x</td>\n",
       "    </tr>\n",
       "  </tbody>\n",
       "</table>\n",
       "</div>"
      ],
      "text/plain": [
       "                                                 text  ans  \\\n",
       "5   What is the sum of the distinct prime factors ...  226   \n",
       "6   Fifteen more than four times a number is 6 mor...    9   \n",
       "7   5 less than 6 times a whole number is 9 less t...    2   \n",
       "10  1/3 of a number is 5 less than half of the sam...   30   \n",
       "11  I think of a number multiply it by 8 then subt...   11   \n",
       "\n",
       "                equations unknowns  \n",
       "5             s = 3 + 223        s  \n",
       "6      15 + 4*n = 6 + 5*n        n  \n",
       "7       6*n - 5 = 8*n - 9        n  \n",
       "10  1/3 * x = 1/2 * x - 5        x  \n",
       "11         8*x - 66 = 2*x        x  "
      ]
     },
     "execution_count": 14,
     "metadata": {},
     "output_type": "execute_result"
    }
   ],
   "source": [
    "print(data.shape)\n",
    "data.head()"
   ]
  },
  {
   "cell_type": "code",
   "execution_count": 15,
   "metadata": {
    "colab": {
     "base_uri": "https://localhost:8080/",
     "height": 173
    },
    "colab_type": "code",
    "id": "iQCi_lZnJKwi",
    "outputId": "e9d64326-09e4-4a8b-f5ea-95e3209ad1de"
   },
   "outputs": [
    {
     "name": "stdout",
     "output_type": "stream",
     "text": [
      "<class 'pandas.core.frame.DataFrame'>\n",
      "Int64Index: 1571 entries, 5 to 3388\n",
      "Data columns (total 4 columns):\n",
      " #   Column     Non-Null Count  Dtype \n",
      "---  ------     --------------  ----- \n",
      " 0   text       1571 non-null   object\n",
      " 1   ans        1571 non-null   object\n",
      " 2   equations  1571 non-null   object\n",
      " 3   unknowns   1571 non-null   object\n",
      "dtypes: object(4)\n",
      "memory usage: 61.4+ KB\n"
     ]
    }
   ],
   "source": [
    "data = data.dropna(subset=[\"equations\"])\n",
    "data.info()"
   ]
  },
  {
   "cell_type": "markdown",
   "metadata": {
    "colab_type": "text",
    "id": "l_j4sf8UFRAO"
   },
   "source": [
    "Data Cleaning\n",
    "--"
   ]
  },
  {
   "cell_type": "code",
   "execution_count": 19,
   "metadata": {
    "colab": {
     "base_uri": "https://localhost:8080/",
     "height": 69
    },
    "colab_type": "code",
    "id": "PdhRZ_R1FTCI",
    "outputId": "136792b6-a0ff-4cc7-b1d7-5ae7cf3f4d62"
   },
   "outputs": [
    {
     "name": "stdout",
     "output_type": "stream",
     "text": [
      "Functions Defined!\n"
     ]
    },
    {
     "name": "stderr",
     "output_type": "stream",
     "text": [
      "[nltk_data] Downloading package stopwords to\n",
      "[nltk_data]     C:\\Users\\shrij\\AppData\\Roaming\\nltk_data...\n",
      "[nltk_data]   Package stopwords is already up-to-date!\n"
     ]
    }
   ],
   "source": [
    "import nltk\n",
    "nltk.download('stopwords')\n",
    "\n",
    "from nltk.corpus import stopwords\n",
    "\n",
    "# import spacy\n",
    "\n",
    "# import string\n",
    "\n",
    "import re\n",
    "\n",
    "# nlp = spacy.load(\"en\")\n",
    "\n",
    "nltk_stopwords = set(stopwords.words('english'))\n",
    "\n",
    "# spacy_stopwords = nlp.Defaults.stop_words\n",
    "\n",
    "stopset = nltk_stopwords#.union(spacy_stopwords)\n",
    "\n",
    "stopset.difference_update([\"a\",\"more\",\"less\",\"than\",\"one\",\"two\",\"three\",\"four\",\"five\",\"six\",\"seven\",\"eight\",\"nine\",\"ten\",\"eleven\",\"twelve\",\"fifteen\",\"twenty\",\"forty\",\"sixty\",\"fifty\",\"hundred\",\"once\",\"first\",\"second\",\"third\"])\n",
    "\n",
    "punctuation = \"!\\\"#$&',;?@\\_`{|}~\"\n",
    "\n",
    "def getText(doc):\n",
    "  doc =  str(doc)\n",
    "  doc = doc.lower().strip()\n",
    "  doc = re.sub('\\n', ' ', doc)\n",
    "  doc = re.sub(r'\\s+', ' ', doc)\n",
    "  m = re.search(r'<meta property=\\\"og:title\\\" content=\\\"(.*?)\\\"/>',doc)\n",
    "  m1 = re.search(r'<meta property=\\\"og:description\\\" content=\\\"(.*?)\\\"/>',doc)\n",
    "\n",
    "  if m != None and m1!= None:\n",
    "    text = str(m.group(1)) + ' ' + str(m1.group(1))\n",
    "  else:\n",
    "    text  = \"No match\"\n",
    "\n",
    "  return text\n",
    "\n",
    "\n",
    "def cleanData(doc):\n",
    "  doc = str(doc)\n",
    "  doc = doc.lower().strip()\n",
    "  doc = re.sub('\\n', ' ', doc)\n",
    "  doc = re.sub(r'\\s+', ' ', doc)\n",
    "  pattern = '\"/><meta '\n",
    "  lookup = re.search(pattern, doc)\n",
    "  if lookup != None:\n",
    "    index = doc.find(lookup.group(0))\n",
    "    doc = doc[:index]\n",
    "  doc = doc.replace('yahoo answers','')\n",
    "  regex1 = r\"[A-Za-z\\s*]+[\\.:%-][A-Za-z\\s*]*\"\n",
    "  regex2 = r\"[0-9]+\\.[0-9]+\"\n",
    "  regex3 = r\"[0-9\\s*]{1,}[\\=\\*+-][0-9\\s*]{1,}\"\n",
    "  match1 = re.search(regex1, doc)\n",
    "  match2 = re.search(regex2, doc)\n",
    "  match3 = re.search(regex3, doc)\n",
    "  # tokens = nltk.WordPunctTokenizer().tokenize(doc)      \n",
    "  tokens = doc.split()\n",
    "  # clean = [token.lower().strip() for token in tokens if token not in stopset]\n",
    "  clean = [token for token in tokens if token not in stopset]\n",
    "  clean = [token.replace('.','') for token in clean if not re.search(r\"[0-9]+\\.[0-9]+\", token)]\n",
    "  clean = \" \".join(clean)\n",
    "  # clean = [''.join(c for c in s if c not in punctuation) for s in clean]\n",
    "  final = ''.join(c for c in clean if c not in punctuation)\n",
    "  # final_tokens = final.split()\n",
    "  # clean2 = [token.replace('.','') for token in final_tokens if not re.search(r\"[0-9]+\\.[0-9]+\", token)]\n",
    "  # final = \" \".join(clean2)\n",
    "  # final = \" \".join(clean)\n",
    "  try:\n",
    "      final = remove_whitespace(final.encode('latin1').decode('utf-8','replace').encode('ascii','ignore'))\n",
    "  except:\n",
    "      final = remove_whitespace(final)\n",
    "  final=final.strip()\n",
    "  return final\n",
    "\n",
    "def remove_whitespace(x):\n",
    "  \"\"\"\n",
    "  Helper function to remove any blank space from a string\n",
    "  x: a string\n",
    "  \"\"\"\n",
    "  try:\n",
    "      # Remove spaces inside of the string\n",
    "      x = \" \".join(x.split())\n",
    "  except:\n",
    "      pass\n",
    "  return x\n",
    "  \n",
    "print(\"Functions Defined!\")\n"
   ]
  },
  {
   "cell_type": "code",
   "execution_count": 39,
   "metadata": {
    "colab": {
     "base_uri": "https://localhost:8080/",
     "height": 191
    },
    "colab_type": "code",
    "id": "ZlwEQ2xHH1s9",
    "outputId": "a2677378-e528-4e80-c590-8f30df44dc10"
   },
   "outputs": [
    {
     "name": "stdout",
     "output_type": "stream",
     "text": [
      "<class 'pandas.core.frame.DataFrame'>\n",
      "Int64Index: 1536 entries, 5 to 3388\n",
      "Data columns (total 5 columns):\n",
      " #   Column        Non-Null Count  Dtype \n",
      "---  ------        --------------  ----- \n",
      " 0   text          1536 non-null   object\n",
      " 1   ans           1536 non-null   object\n",
      " 2   equations     1536 non-null   object\n",
      " 3   unknowns      1536 non-null   object\n",
      " 4   cleaned_text  1536 non-null   object\n",
      "dtypes: object(5)\n",
      "memory usage: 72.0+ KB\n"
     ]
    }
   ],
   "source": [
    "data['cleaned_text'] = data.apply(lambda x: cleanData(str(x['text'])), axis=1)\n",
    "\n",
    "data['cleaned_text'] = data['cleaned_text'].str.decode(\"utf-8\")\n",
    "\n",
    "data = data.dropna(subset=[\"cleaned_text\"])\n",
    "\n",
    "data.info()\n",
    "\n",
    "data.to_csv(\"trainData_univariable.csv\", index = False)\n",
    "# data.to_csv(\"trainData_univariable.txt\", index = False)"
   ]
  },
  {
   "cell_type": "code",
   "execution_count": 40,
   "metadata": {},
   "outputs": [
    {
     "data": {
      "text/html": [
       "<div>\n",
       "<style scoped>\n",
       "    .dataframe tbody tr th:only-of-type {\n",
       "        vertical-align: middle;\n",
       "    }\n",
       "\n",
       "    .dataframe tbody tr th {\n",
       "        vertical-align: top;\n",
       "    }\n",
       "\n",
       "    .dataframe thead th {\n",
       "        text-align: right;\n",
       "    }\n",
       "</style>\n",
       "<table border=\"1\" class=\"dataframe\">\n",
       "  <thead>\n",
       "    <tr style=\"text-align: right;\">\n",
       "      <th></th>\n",
       "      <th>text</th>\n",
       "      <th>ans</th>\n",
       "      <th>equations</th>\n",
       "      <th>unknowns</th>\n",
       "      <th>cleaned_text</th>\n",
       "    </tr>\n",
       "  </thead>\n",
       "  <tbody>\n",
       "    <tr>\n",
       "      <th>5</th>\n",
       "      <td>What is the sum of the distinct prime factors of 2007?\"/&gt;&lt;meta property=\"og:site_name\" content=\"Yahoo Answers\"/&gt;&lt;meta property=\"og:image\" content=\"https://s.yimg.com/cv/apiv2/social/images/yahoo_default_logo.png\"/&gt;&lt;meta property=\"og:image:width\" content=\"500\"/&gt;&lt;meta property=\"og:image:height\" content=\"500\"/&gt;&lt;meta property=\"og:title\" content=\"Yahoo Answers\"/&gt;&lt;meta property=\"og:type\" content=\"website\"/&gt;&lt;meta property=\"og:locale\" content=\"zh_TW\"/&gt;&lt;meta property=\"og:url\" content=\"https://answers.yahoo.com\"/&gt;&lt;meta property=\"og:description\" content=\"\"/&gt;&lt;meta name=\"oath:guce:consent-host\" content=\"guce.yahoo.com\"/&gt;&lt;meta name=\"format-detection\" content=\"telephone=no\"/&gt;&lt;link rel=\"apple-touch-icon-precomposed\" href=\"https://s.yimg.com/tr/54d7a352d4c11dfeb7bd74c82f3fbcff.png\"/&gt;&lt;link rel=\"stylesheet\" type=\"text/css\" href=\"https://s.yimg.com/zq/ans/frontend/vendor.fc9104bfe51e6f7bf7f6.css\"/&gt;&lt;link rel=\"stylesheet\" type=\"text/css\" href=\"https://s.yimg.com/zq/ans/frontend/errorPage.4ba4784a22d4cca...</td>\n",
       "      <td>226</td>\n",
       "      <td>s = 3 + 223</td>\n",
       "      <td>s</td>\n",
       "      <td>sum distinct prime factors 2007</td>\n",
       "    </tr>\n",
       "    <tr>\n",
       "      <th>6</th>\n",
       "      <td>Fifteen more than four times a number is 6 more than five times the number. what's the value of the number?\"/&gt;&lt;meta property=\"og:site_name\" content=\"Yahoo Answers\"/&gt;&lt;meta property=\"og:image\" content=\"https://s.yimg.com/cv/apiv2/social/images/yahoo_default_logo.png\"/&gt;&lt;meta property=\"og:image:width\" content=\"500\"/&gt;&lt;meta property=\"og:image:height\" content=\"500\"/&gt;&lt;meta property=\"og:title\" content=\"Yahoo Answers\"/&gt;&lt;meta property=\"og:type\" content=\"website\"/&gt;&lt;meta property=\"og:locale\" content=\"zh_TW\"/&gt;&lt;meta property=\"og:url\" content=\"https://answers.yahoo.com\"/&gt;&lt;meta property=\"og:description\" content=\"\"/&gt;&lt;meta name=\"oath:guce:consent-host\" content=\"guce.yahoo.com\"/&gt;&lt;meta name=\"format-detection\" content=\"telephone=no\"/&gt;&lt;link rel=\"apple-touch-icon-precomposed\" href=\"https://s.yimg.com/tr/54d7a352d4c11dfeb7bd74c82f3fbcff.png\"/&gt;&lt;link rel=\"stylesheet\" type=\"text/css\" href=\"https://s.yimg.com/zq/ans/frontend/vendor.fc9104bfe51e6f7bf7f6.css\"/&gt;&lt;link rel=\"stylesheet\" type=\"text/css\" href=\"https:/...</td>\n",
       "      <td>9</td>\n",
       "      <td>15 + 4*n = 6 + 5*n</td>\n",
       "      <td>n</td>\n",
       "      <td>fifteen more than four times a number 6 more than five times number whats value number</td>\n",
       "    </tr>\n",
       "    <tr>\n",
       "      <th>7</th>\n",
       "      <td>5 less than 6 times a whole number is 9 less than 8 times that number. Find the number.\"/&gt;&lt;meta property=\"og:site_name\" content=\"Yahoo Answers\"/&gt;&lt;meta property=\"og:image\" content=\"https://s.yimg.com/cv/apiv2/social/images/yahoo_default_logo.png\"/&gt;&lt;meta property=\"og:image:width\" content=\"500\"/&gt;&lt;meta property=\"og:image:height\" content=\"500\"/&gt;&lt;meta property=\"og:title\" content=\"Yahoo Answers\"/&gt;&lt;meta property=\"og:type\" content=\"website\"/&gt;&lt;meta property=\"og:locale\" content=\"zh_TW\"/&gt;&lt;meta property=\"og:url\" content=\"https://answers.yahoo.com\"/&gt;&lt;meta property=\"og:description\" content=\"\"/&gt;&lt;meta name=\"oath:guce:consent-host\" content=\"guce.yahoo.com\"/&gt;&lt;meta name=\"format-detection\" content=\"telephone=no\"/&gt;&lt;link rel=\"apple-touch-icon-precomposed\" href=\"https://s.yimg.com/tr/54d7a352d4c11dfeb7bd74c82f3fbcff.png\"/&gt;&lt;link rel=\"stylesheet\" type=\"text/css\" href=\"https://s.yimg.com/zq/ans/frontend/vendor.fc9104bfe51e6f7bf7f6.css\"/&gt;&lt;link rel=\"stylesheet\" type=\"text/css\" href=\"https://s.yimg.com/zq/ans/f...</td>\n",
       "      <td>2</td>\n",
       "      <td>6*n - 5 = 8*n - 9</td>\n",
       "      <td>n</td>\n",
       "      <td>5 less than 6 times a whole number 9 less than 8 times number find number</td>\n",
       "    </tr>\n",
       "    <tr>\n",
       "      <th>10</th>\n",
       "      <td>1/3 of a number is 5 less than half of the same number. what is the number?\"/&gt;&lt;meta property=\"og:site_name\" content=\"Yahoo Answers\"/&gt;&lt;meta property=\"og:image\" content=\"https://s.yimg.com/cv/apiv2/social/images/yahoo_default_logo.png\"/&gt;&lt;meta property=\"og:image:width\" content=\"500\"/&gt;&lt;meta property=\"og:image:height\" content=\"500\"/&gt;&lt;meta property=\"og:title\" content=\"Yahoo Answers\"/&gt;&lt;meta property=\"og:type\" content=\"website\"/&gt;&lt;meta property=\"og:locale\" content=\"zh_TW\"/&gt;&lt;meta property=\"og:url\" content=\"https://answers.yahoo.com\"/&gt;&lt;meta property=\"og:description\" content=\"\"/&gt;&lt;meta name=\"oath:guce:consent-host\" content=\"guce.yahoo.com\"/&gt;&lt;meta name=\"format-detection\" content=\"telephone=no\"/&gt;&lt;link rel=\"apple-touch-icon-precomposed\" href=\"https://s.yimg.com/tr/54d7a352d4c11dfeb7bd74c82f3fbcff.png\"/&gt;&lt;link rel=\"stylesheet\" type=\"text/css\" href=\"https://s.yimg.com/zq/ans/frontend/vendor.fc9104bfe51e6f7bf7f6.css\"/&gt;&lt;link rel=\"stylesheet\" type=\"text/css\" href=\"https://s.yimg.com/zq/ans/frontend/erro...</td>\n",
       "      <td>30</td>\n",
       "      <td>1/3 * x = 1/2 * x - 5</td>\n",
       "      <td>x</td>\n",
       "      <td>1/3 a number 5 less than half number number</td>\n",
       "    </tr>\n",
       "    <tr>\n",
       "      <th>11</th>\n",
       "      <td>I think of a number multiply it by 8 then subtract 66. The result is twice the number that i was thinking.\"/&gt;&lt;meta property=\"og:site_name\" content=\"Yahoo Answers\"/&gt;&lt;meta property=\"og:image\" content=\"https://s.yimg.com/cv/apiv2/social/images/yahoo_default_logo.png\"/&gt;&lt;meta property=\"og:image:width\" content=\"500\"/&gt;&lt;meta property=\"og:image:height\" content=\"500\"/&gt;&lt;meta property=\"og:title\" content=\"Yahoo Answers\"/&gt;&lt;meta property=\"og:type\" content=\"website\"/&gt;&lt;meta property=\"og:locale\" content=\"zh_TW\"/&gt;&lt;meta property=\"og:url\" content=\"https://answers.yahoo.com\"/&gt;&lt;meta property=\"og:description\" content=\"\"/&gt;&lt;meta name=\"oath:guce:consent-host\" content=\"guce.yahoo.com\"/&gt;&lt;meta name=\"format-detection\" content=\"telephone=no\"/&gt;&lt;link rel=\"apple-touch-icon-precomposed\" href=\"https://s.yimg.com/tr/54d7a352d4c11dfeb7bd74c82f3fbcff.png\"/&gt;&lt;link rel=\"stylesheet\" type=\"text/css\" href=\"https://s.yimg.com/zq/ans/frontend/vendor.fc9104bfe51e6f7bf7f6.css\"/&gt;&lt;link rel=\"stylesheet\" type=\"text/css\" href=\"https://...</td>\n",
       "      <td>11</td>\n",
       "      <td>8*x - 66 = 2*x</td>\n",
       "      <td>x</td>\n",
       "      <td>think a number multiply 8 subtract 66 result twice number thinking</td>\n",
       "    </tr>\n",
       "  </tbody>\n",
       "</table>\n",
       "</div>"
      ],
      "text/plain": [
       "                                                                                                                                                                                                                                                                                                                                                                                                                                                                                                                                                                                                                                                                                                                                                                                                                                                                                                                                                                                                                                       text  \\\n",
       "5   What is the sum of the distinct prime factors of 2007?\"/><meta property=\"og:site_name\" content=\"Yahoo Answers\"/><meta property=\"og:image\" content=\"https://s.yimg.com/cv/apiv2/social/images/yahoo_default_logo.png\"/><meta property=\"og:image:width\" content=\"500\"/><meta property=\"og:image:height\" content=\"500\"/><meta property=\"og:title\" content=\"Yahoo Answers\"/><meta property=\"og:type\" content=\"website\"/><meta property=\"og:locale\" content=\"zh_TW\"/><meta property=\"og:url\" content=\"https://answers.yahoo.com\"/><meta property=\"og:description\" content=\"\"/><meta name=\"oath:guce:consent-host\" content=\"guce.yahoo.com\"/><meta name=\"format-detection\" content=\"telephone=no\"/><link rel=\"apple-touch-icon-precomposed\" href=\"https://s.yimg.com/tr/54d7a352d4c11dfeb7bd74c82f3fbcff.png\"/><link rel=\"stylesheet\" type=\"text/css\" href=\"https://s.yimg.com/zq/ans/frontend/vendor.fc9104bfe51e6f7bf7f6.css\"/><link rel=\"stylesheet\" type=\"text/css\" href=\"https://s.yimg.com/zq/ans/frontend/errorPage.4ba4784a22d4cca...   \n",
       "6   Fifteen more than four times a number is 6 more than five times the number. what's the value of the number?\"/><meta property=\"og:site_name\" content=\"Yahoo Answers\"/><meta property=\"og:image\" content=\"https://s.yimg.com/cv/apiv2/social/images/yahoo_default_logo.png\"/><meta property=\"og:image:width\" content=\"500\"/><meta property=\"og:image:height\" content=\"500\"/><meta property=\"og:title\" content=\"Yahoo Answers\"/><meta property=\"og:type\" content=\"website\"/><meta property=\"og:locale\" content=\"zh_TW\"/><meta property=\"og:url\" content=\"https://answers.yahoo.com\"/><meta property=\"og:description\" content=\"\"/><meta name=\"oath:guce:consent-host\" content=\"guce.yahoo.com\"/><meta name=\"format-detection\" content=\"telephone=no\"/><link rel=\"apple-touch-icon-precomposed\" href=\"https://s.yimg.com/tr/54d7a352d4c11dfeb7bd74c82f3fbcff.png\"/><link rel=\"stylesheet\" type=\"text/css\" href=\"https://s.yimg.com/zq/ans/frontend/vendor.fc9104bfe51e6f7bf7f6.css\"/><link rel=\"stylesheet\" type=\"text/css\" href=\"https:/...   \n",
       "7   5 less than 6 times a whole number is 9 less than 8 times that number. Find the number.\"/><meta property=\"og:site_name\" content=\"Yahoo Answers\"/><meta property=\"og:image\" content=\"https://s.yimg.com/cv/apiv2/social/images/yahoo_default_logo.png\"/><meta property=\"og:image:width\" content=\"500\"/><meta property=\"og:image:height\" content=\"500\"/><meta property=\"og:title\" content=\"Yahoo Answers\"/><meta property=\"og:type\" content=\"website\"/><meta property=\"og:locale\" content=\"zh_TW\"/><meta property=\"og:url\" content=\"https://answers.yahoo.com\"/><meta property=\"og:description\" content=\"\"/><meta name=\"oath:guce:consent-host\" content=\"guce.yahoo.com\"/><meta name=\"format-detection\" content=\"telephone=no\"/><link rel=\"apple-touch-icon-precomposed\" href=\"https://s.yimg.com/tr/54d7a352d4c11dfeb7bd74c82f3fbcff.png\"/><link rel=\"stylesheet\" type=\"text/css\" href=\"https://s.yimg.com/zq/ans/frontend/vendor.fc9104bfe51e6f7bf7f6.css\"/><link rel=\"stylesheet\" type=\"text/css\" href=\"https://s.yimg.com/zq/ans/f...   \n",
       "10  1/3 of a number is 5 less than half of the same number. what is the number?\"/><meta property=\"og:site_name\" content=\"Yahoo Answers\"/><meta property=\"og:image\" content=\"https://s.yimg.com/cv/apiv2/social/images/yahoo_default_logo.png\"/><meta property=\"og:image:width\" content=\"500\"/><meta property=\"og:image:height\" content=\"500\"/><meta property=\"og:title\" content=\"Yahoo Answers\"/><meta property=\"og:type\" content=\"website\"/><meta property=\"og:locale\" content=\"zh_TW\"/><meta property=\"og:url\" content=\"https://answers.yahoo.com\"/><meta property=\"og:description\" content=\"\"/><meta name=\"oath:guce:consent-host\" content=\"guce.yahoo.com\"/><meta name=\"format-detection\" content=\"telephone=no\"/><link rel=\"apple-touch-icon-precomposed\" href=\"https://s.yimg.com/tr/54d7a352d4c11dfeb7bd74c82f3fbcff.png\"/><link rel=\"stylesheet\" type=\"text/css\" href=\"https://s.yimg.com/zq/ans/frontend/vendor.fc9104bfe51e6f7bf7f6.css\"/><link rel=\"stylesheet\" type=\"text/css\" href=\"https://s.yimg.com/zq/ans/frontend/erro...   \n",
       "11  I think of a number multiply it by 8 then subtract 66. The result is twice the number that i was thinking.\"/><meta property=\"og:site_name\" content=\"Yahoo Answers\"/><meta property=\"og:image\" content=\"https://s.yimg.com/cv/apiv2/social/images/yahoo_default_logo.png\"/><meta property=\"og:image:width\" content=\"500\"/><meta property=\"og:image:height\" content=\"500\"/><meta property=\"og:title\" content=\"Yahoo Answers\"/><meta property=\"og:type\" content=\"website\"/><meta property=\"og:locale\" content=\"zh_TW\"/><meta property=\"og:url\" content=\"https://answers.yahoo.com\"/><meta property=\"og:description\" content=\"\"/><meta name=\"oath:guce:consent-host\" content=\"guce.yahoo.com\"/><meta name=\"format-detection\" content=\"telephone=no\"/><link rel=\"apple-touch-icon-precomposed\" href=\"https://s.yimg.com/tr/54d7a352d4c11dfeb7bd74c82f3fbcff.png\"/><link rel=\"stylesheet\" type=\"text/css\" href=\"https://s.yimg.com/zq/ans/frontend/vendor.fc9104bfe51e6f7bf7f6.css\"/><link rel=\"stylesheet\" type=\"text/css\" href=\"https://...   \n",
       "\n",
       "    ans              equations unknowns  \\\n",
       "5   226            s = 3 + 223        s   \n",
       "6     9     15 + 4*n = 6 + 5*n        n   \n",
       "7     2      6*n - 5 = 8*n - 9        n   \n",
       "10   30  1/3 * x = 1/2 * x - 5        x   \n",
       "11   11         8*x - 66 = 2*x        x   \n",
       "\n",
       "                                                                              cleaned_text  \n",
       "5                                                          sum distinct prime factors 2007  \n",
       "6   fifteen more than four times a number 6 more than five times number whats value number  \n",
       "7                5 less than 6 times a whole number 9 less than 8 times number find number  \n",
       "10                                             1/3 a number 5 less than half number number  \n",
       "11                      think a number multiply 8 subtract 66 result twice number thinking  "
      ]
     },
     "execution_count": 40,
     "metadata": {},
     "output_type": "execute_result"
    }
   ],
   "source": [
    "pd.options.display.max_colwidth = 1000\n",
    "data.head()"
   ]
  }
 ],
 "metadata": {
  "colab": {
   "collapsed_sections": [],
   "machine_shape": "hm",
   "name": "Initial Data Cleaning.ipynb",
   "provenance": [],
   "toc_visible": true
  },
  "kernelspec": {
   "display_name": "Python 3",
   "language": "python",
   "name": "python3"
  },
  "language_info": {
   "codemirror_mode": {
    "name": "ipython",
    "version": 3
   },
   "file_extension": ".py",
   "mimetype": "text/x-python",
   "name": "python",
   "nbconvert_exporter": "python",
   "pygments_lexer": "ipython3",
   "version": "3.7.4"
  }
 },
 "nbformat": 4,
 "nbformat_minor": 1
}

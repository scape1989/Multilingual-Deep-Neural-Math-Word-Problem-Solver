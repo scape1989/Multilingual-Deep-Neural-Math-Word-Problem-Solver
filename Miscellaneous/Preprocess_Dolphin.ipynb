{
 "cells": [
  {
   "cell_type": "code",
   "execution_count": 77,
   "metadata": {},
   "outputs": [],
   "source": [
    "# DOLPHIN PREPROCESSING "
   ]
  },
  {
   "cell_type": "code",
   "execution_count": 398,
   "metadata": {},
   "outputs": [],
   "source": [
    "import pandas as pd\n",
    "import numpy as np\n",
    "import re\n",
    "import json\n",
    "import nltk\n",
    "from word2number import w2n\n",
    "from nltk.stem.snowball import SnowballStemmer\n",
    "from fractions import Fraction"
   ]
  },
  {
   "cell_type": "code",
   "execution_count": 497,
   "metadata": {},
   "outputs": [],
   "source": [
    "# For dolphine use:\n",
    "df = pd.read_csv('trainData_univariable.csv')\n",
    "df.insert(0, 'iIndex', range(1,1+len(df)))\n",
    "df = df[np.invert(np.array(df['cleaned_text'].isna()))] #not sure what this is doing .. check\n",
    "df = df.rename(columns={\"equations\":\"iEquation\",\"cleaned_text\":\"sQuestion\",\"ans\":\"solution\"})\n",
    "df = df[['solution','iEquation','iIndex','text','sQuestion','unknowns']]\n",
    "df.reset_index(drop=True, inplace=True)"
   ]
  },
  {
   "cell_type": "code",
   "execution_count": 498,
   "metadata": {},
   "outputs": [],
   "source": [
    "char_set = {'0', '1', '2', '3', '4', '5', '6', '7', '8', '9', '(', ')', '+', '-', '/', '*','.','^'}\n",
    "df_cleaned = pd.DataFrame()\n",
    "for id_, row in df.iterrows():\n",
    "    l, r = row['iEquation'].split(\"=\", 1)\n",
    "    lSet, rSet = set(l.replace(\" \", \"\")), set(r.replace(\" \", \"\"))\n",
    "    flagl = (len(l.strip()) == 1 and not l.strip().isdigit() and len(rSet - char_set) == 0)\n",
    "    flagr = (len(r.strip()) == 1 and not r.strip().isdigit() and len(lSet - char_set) == 0)\n",
    "    if flagl or flagr:\n",
    "        if flagr:\n",
    "            df.at[id_,'iEquation'] = r + '=' + l"
   ]
  },
  {
   "cell_type": "code",
   "execution_count": 499,
   "metadata": {},
   "outputs": [
    {
     "name": "stdout",
     "output_type": "stream",
     "text": [
      "(865, 6)\n"
     ]
    }
   ],
   "source": [
    "def checkEquation(s):\n",
    "    if((s[0].isalpha() and (s[1]=='=' or s[2]=='=')) or (s[-1].isalpha() and (s[-2]=='=' or s[-3]=='='))):\n",
    "        l, r = s.split(\"=\", 1)\n",
    "        flagl = re.search('[a-zA-Z]', l)\n",
    "        flagr = re.search('[a-zA-Z]', r)\n",
    "        if(flagl!=None and flagr!=None):\n",
    "            return False\n",
    "        return True\n",
    "    else:\n",
    "        return False\n",
    "\n",
    "\n",
    "df[\"unknown_no\"] = df[\"unknowns\"].apply(lambda x : len(x)==1)\n",
    "df=df[df[\"unknown_no\"]==True]\n",
    "df[\"checkEquation\"] = df[\"iEquation\"].apply(lambda x : checkEquation(x))\n",
    "df = df[df[\"checkEquation\"]==True]\n",
    "cols = [\"checkEquation\",\"unknown_no\"]\n",
    "df = df.drop(cols,axis=1)\n",
    "df.reset_index(drop=True, inplace=True)\n",
    "print(df.shape)\n",
    "# df.tail()\n",
    "# df=df[:5]"
   ]
  },
  {
   "cell_type": "code",
   "execution_count": 500,
   "metadata": {},
   "outputs": [
    {
     "data": {
      "text/html": [
       "<div>\n",
       "<style scoped>\n",
       "    .dataframe tbody tr th:only-of-type {\n",
       "        vertical-align: middle;\n",
       "    }\n",
       "\n",
       "    .dataframe tbody tr th {\n",
       "        vertical-align: top;\n",
       "    }\n",
       "\n",
       "    .dataframe thead th {\n",
       "        text-align: right;\n",
       "    }\n",
       "</style>\n",
       "<table border=\"1\" class=\"dataframe\">\n",
       "  <thead>\n",
       "    <tr style=\"text-align: right;\">\n",
       "      <th></th>\n",
       "      <th>solution</th>\n",
       "      <th>iEquation</th>\n",
       "      <th>iIndex</th>\n",
       "      <th>text</th>\n",
       "      <th>sQuestion</th>\n",
       "      <th>unknowns</th>\n",
       "    </tr>\n",
       "  </thead>\n",
       "  <tbody>\n",
       "    <tr>\n",
       "      <th>41</th>\n",
       "      <td>10</td>\n",
       "      <td>x=25*2/5</td>\n",
       "      <td>121</td>\n",
       "      <td>A store has 25 bikes. 2/5 of them are red. How many bikes are red?\\n\"/&gt;&lt;meta property=\"og:site_name\" content=\"Yahoo Answers\"/&gt;&lt;meta property=\"og:image\" content=\"https://s.yimg.com/cv/apiv2/social/images/yahoo_default_logo.png\"/&gt;&lt;meta property=\"og:image:width\" content=\"500\"/&gt;&lt;meta property=\"og:image:height\" content=\"500\"/&gt;&lt;meta property=\"og:title\" content=\"Yahoo Answers\"/&gt;&lt;meta property=\"og:type\" content=\"website\"/&gt;&lt;meta property=\"og:locale\" content=\"zh_TW\"/&gt;&lt;meta property=\"og:url\" content=\"https://answers.yahoo.com\"/&gt;&lt;meta property=\"og:description\" content=\"\"/&gt;&lt;meta name=\"oath:guce:consent-host\" content=\"guce.yahoo.com\"/&gt;&lt;meta name=\"format-detection\" content=\"telephone=no\"/&gt;&lt;link rel=\"apple-touch-icon-precomposed\" href=\"https://s.yimg.com/tr/54d7a352d4c11dfeb7bd74c82f3fbcff.png\"/&gt;&lt;link rel=\"stylesheet\" type=\"text/css\" href=\"https://s.yimg.com/zq/ans/frontend/vendor.fc9104bfe51e6f7bf7f6.css\"/&gt;&lt;link rel=\"stylesheet\" type=\"text/css\" href=\"https://s.yimg.com/zq/ans/frontend/errorPage.4...</td>\n",
       "      <td>a store 25 bikes 2/5 red many bikes red</td>\n",
       "      <td>x</td>\n",
       "    </tr>\n",
       "  </tbody>\n",
       "</table>\n",
       "</div>"
      ],
      "text/plain": [
       "   solution iEquation  iIndex  \\\n",
       "41       10  x=25*2/5     121   \n",
       "\n",
       "                                                                                                                                                                                                                                                                                                                                                                                                                                                                                                                                                                                                                                                                                                                                                                                                                                                                                                                                                                                                                                       text  \\\n",
       "41  A store has 25 bikes. 2/5 of them are red. How many bikes are red?\\n\"/><meta property=\"og:site_name\" content=\"Yahoo Answers\"/><meta property=\"og:image\" content=\"https://s.yimg.com/cv/apiv2/social/images/yahoo_default_logo.png\"/><meta property=\"og:image:width\" content=\"500\"/><meta property=\"og:image:height\" content=\"500\"/><meta property=\"og:title\" content=\"Yahoo Answers\"/><meta property=\"og:type\" content=\"website\"/><meta property=\"og:locale\" content=\"zh_TW\"/><meta property=\"og:url\" content=\"https://answers.yahoo.com\"/><meta property=\"og:description\" content=\"\"/><meta name=\"oath:guce:consent-host\" content=\"guce.yahoo.com\"/><meta name=\"format-detection\" content=\"telephone=no\"/><link rel=\"apple-touch-icon-precomposed\" href=\"https://s.yimg.com/tr/54d7a352d4c11dfeb7bd74c82f3fbcff.png\"/><link rel=\"stylesheet\" type=\"text/css\" href=\"https://s.yimg.com/zq/ans/frontend/vendor.fc9104bfe51e6f7bf7f6.css\"/><link rel=\"stylesheet\" type=\"text/css\" href=\"https://s.yimg.com/zq/ans/frontend/errorPage.4...   \n",
       "\n",
       "                                  sQuestion unknowns  \n",
       "41  a store 25 bikes 2/5 red many bikes red        x  "
      ]
     },
     "execution_count": 500,
     "metadata": {},
     "output_type": "execute_result"
    }
   ],
   "source": [
    "df.head()\n",
    "# ids\n",
    "df[df.index==41]"
   ]
  },
  {
   "cell_type": "code",
   "execution_count": 501,
   "metadata": {},
   "outputs": [],
   "source": [
    "dfjson = df.to_json(orient='index')\n",
    "with open('dolphin_json1.json', 'w') as f: \n",
    "    json.dump(dfjson, f)"
   ]
  },
  {
   "cell_type": "code",
   "execution_count": 502,
   "metadata": {},
   "outputs": [],
   "source": [
    "with open('dolphin_json1.json') as f:\n",
    "    df = json.load(f)\n",
    "df = json.loads(df)"
   ]
  },
  {
   "cell_type": "code",
   "execution_count": 509,
   "metadata": {},
   "outputs": [],
   "source": [
    "def split_num_and_unit(word):\n",
    "    num = ''\n",
    "    unit = ''\n",
    "    for idx in range(len(word)):\n",
    "        char = word[idx]\n",
    "        if char.isdigit() or char in ['.', '/', '(', ')']:\n",
    "            num += char\n",
    "        else:\n",
    "            unit += word[idx:]\n",
    "            break\n",
    "    return num, unit#.encode('utf-8')\n",
    "\n",
    "def mask_num(seg_text_list, equ_str):\n",
    "    alphas = 'abcdefghijklmnopqrstuvwxyz'\n",
    "    num_list  = []\n",
    "    mask_seg_text = []\n",
    "    numtemp_order = []\n",
    "    num_pos = []\n",
    "    count = 0 \n",
    "    pos=-1\n",
    "    for word in seg_text_list:\n",
    "        pos+=1\n",
    "        if word in ['',' ']:\n",
    "            continue\n",
    "        try:\n",
    "            word = str(w2n.word_to_num(word))\n",
    "        except:\n",
    "            word = word\n",
    "            \n",
    "        if is_number(word):\n",
    "            mask_seg_text.append(\"temp_\"+alphas[count])\n",
    "            numtemp_order.append(\"temp_\"+alphas[count])\n",
    "            if '%' in word:\n",
    "                mask_seg_text.append('%')\n",
    "            num_list.append(word)\n",
    "            num_pos.append(pos)\n",
    "            count += 1\n",
    "        else:\n",
    "            mask_seg_text.append(word)\n",
    "    mask_equ_list = []\n",
    "    s_n = sorted([(w,i) for i,w in enumerate(num_list)], key=lambda x: len(str(x[0])), reverse=True)\n",
    "    if '3.14%' not in equ_str and '3.1416' not in equ_str:\n",
    "        equ_str = equ_str.replace('3.14', '&PI&', 15)\n",
    "    for num, idx in s_n:\n",
    "        if num[-1] == '%':\n",
    "            num = num[:-1]\n",
    "        \n",
    "        equ_str = equ_str.replace(num, '&temp_'+alphas[idx]+'&', 15)\n",
    "    equ_list = []\n",
    "    num_set = ['0','1','2','3','4','5','6','7','8','9','%', '.']\n",
    "    for elem in equ_str.split('&'):\n",
    "        if 'temp' in elem or 'PI' in elem:\n",
    "            equ_list.append(elem)\n",
    "        else:\n",
    "            start = ''\n",
    "            for char in elem:\n",
    "                if char not in num_set:\n",
    "                    if start != '':\n",
    "                        equ_list.append(start)\n",
    "                    equ_list.append(char)\n",
    "                    start = ''\n",
    "                else:\n",
    "                    start += char\n",
    "            if start != '':\n",
    "                equ_list.append(start)\n",
    "    equ_list = [x for x in equ_list if x!=' ']\n",
    "    reverse_equ_list = equ_list[::-1]\n",
    "    return mask_seg_text, num_list, equ_list, reverse_equ_list,numtemp_order, num_pos\n",
    "def is_number(word):\n",
    "    if word[0] == '(' and word[-1] == ')':\n",
    "        return True\n",
    "    if '(' in word and ')' in word and '/' in word and not word[-1].isdigit():\n",
    "         return True\n",
    "    if word[-1] == '%' and len(word)>1:\n",
    "        return True\n",
    "    if word[0].isdigit():\n",
    "        return True\n",
    "    try:\n",
    "        float(word)\n",
    "        return True\n",
    "    except:\n",
    "        return False\n",
    "    \n",
    "def extract_number_and_align_per(data_per):\n",
    "    wp_id = data_per['iIndex']\n",
    "    seg_text = data_per['sQuestion']\n",
    "    equation = data_per['iEquation']\n",
    "    equation = re.sub('\\[', '(', equation)\n",
    "    equation = re.sub('\\]', ')', equation)\n",
    "    ans = data_per['solution']\n",
    "\n",
    "    num_list = []\n",
    "    word_seg_list = []\n",
    "    for word in seg_text.split():\n",
    "        if ((word == '') or (word == ' ')):\n",
    "            continue \n",
    "        if is_number(word):\n",
    "            if '(' not in word and '%' not in word and '/' not in word and ( not word[-1].isdigit() or (len(word) > 2 and not word[-2].isdigit())) :\n",
    "                num, unit = split_num_and_unit(word)\n",
    "                word_seg_list.append(num)\n",
    "                word_seg_list.append(unit)\n",
    "            elif '(' in word and word[-1] != ')' and '/' not in word and ( not word[-1].isdigit() or (len(word) > 2 and not word[-2].isdigit())):\n",
    "                num, unit = split_num_and_unit(word)\n",
    "                word_seg_list.append(num)\n",
    "                word_seg_list.append(unit)\n",
    "            else:\n",
    "                word_seg_list.append(word) \n",
    "        else:\n",
    "            word_seg_list.append(word)\n",
    "    word_seg_list = [x for x in word_seg_list if x!=' ']\n",
    "                 \n",
    "    mask_seg_text_list, num_list, mask_equ_list, mask_inv_equ_list,numtemp_order, num_pos = mask_num(word_seg_list, equation)\n",
    "    return [mask_seg_text_list, mask_equ_list, num_list, mask_inv_equ_list,numtemp_order, num_pos]  \n",
    "\n"
   ]
  },
  {
   "cell_type": "code",
   "execution_count": 510,
   "metadata": {},
   "outputs": [
    {
     "data": {
      "text/plain": [
       "['sum', '1/9', '2/3', '5/18']"
      ]
     },
     "execution_count": 510,
     "metadata": {},
     "output_type": "execute_result"
    }
   ],
   "source": [
    "a = ['sum', '1/9', '', '2/3', '', '5/18', 'is']\n",
    "s=\"sum 1/9 2/3 5/18 \"\n",
    "s.split()"
   ]
  },
  {
   "cell_type": "code",
   "execution_count": 511,
   "metadata": {},
   "outputs": [
    {
     "data": {
      "text/plain": [
       "865"
      ]
     },
     "execution_count": 511,
     "metadata": {},
     "output_type": "execute_result"
    }
   ],
   "source": [
    "df_dict = {}\n",
    "df_all = df\n",
    "i = 0 \n",
    "for key in df_all:\n",
    "    elem = df_all[key]\n",
    "    key = elem['iIndex']\n",
    "    tuple_per = extract_number_and_align_per(elem)\n",
    "    df_dict[key] = {}\n",
    "    df_dict[key]['tuple'] = tuple_per\n",
    "    df_dict[key]['sQuestion'] = elem['sQuestion'][:]\n",
    "    df_dict[key]['iEquation'] = elem['iEquation'][:]\n",
    "    df_dict[key]['solution'] = elem['solution'][:]\n",
    "    df_dict[key]['iIndex'] = elem['iIndex']\n",
    "len(df_dict)"
   ]
  },
  {
   "cell_type": "code",
   "execution_count": 512,
   "metadata": {},
   "outputs": [],
   "source": [
    "def process_ans( ans,flag=False):\n",
    "        try:\n",
    "            float(int(ans))\n",
    "            if(flag):\n",
    "                print(\"try \",ans)\n",
    "            return ans\n",
    "        except:\n",
    "            if '%' in ans:\n",
    "                if(flag):\n",
    "                    print(\"% hi\")\n",
    "                ans = ans[:-1]\n",
    "                ans = float(ans)/100\n",
    "                return str(ans)\n",
    "            if '|' in ans:\n",
    "                if(flag):\n",
    "                    print(\"| hi\")\n",
    "                ans = ans.split('|')[-1]\n",
    "                return str(ans)\n",
    "            if (';' in ans) or ('or' in ans):\n",
    "                if(flag):\n",
    "                    print(\"; or \")\n",
    "                return ans\n",
    "            if (\"/\" in ans):\n",
    "                if(flag):\n",
    "                    print(\"// \",ans)\n",
    "                return str(convert_to_float(ans))\n",
    "            else:\n",
    "                try:\n",
    "                    if(flag):\n",
    "                        print(\"in except\")\n",
    "                    s_1 = ans.find('(')\n",
    "                    if s_1 >0:\n",
    "                        num_pre = ans[:s_1]\n",
    "                    else:\n",
    "                        num_pre = 0 \n",
    "    #                 print(ans)\n",
    "                    s_1 = ans.find('(')\n",
    "                    e_1 = ans.find(')', s_1+1)\n",
    "                    num_1 = ans[s_1+1:e_1]\n",
    "                    s_2 = ans.find('(', e_1)\n",
    "                    e_2 = ans.find(')', s_2)\n",
    "                    num_2 = ans[s_2+1:e_2]\n",
    "    #                 print(\"process ans \",num_pre, num_1,num_2)\n",
    "                    ans = float(num_pre)+float(num_1)/float(num_2)\n",
    "                    return str(ans)\n",
    "                except:\n",
    "                    return \"None\"\n",
    "\n",
    "def validate(s):\n",
    "    values = s.split('/')\n",
    "    return len(values) == 2 and all(i.isdigit() for i in values)\n",
    "    \n",
    "def convert_to_float(frac_str):\n",
    "    try:\n",
    "        return float(frac_str)\n",
    "    except ValueError:\n",
    "        num, denom = frac_str.split(' ')[0].split('/')\n",
    "        try:\n",
    "            leading, num = num.split(' ')\n",
    "            whole = float(leading)\n",
    "        except ValueError:\n",
    "            whole = 0\n",
    "        frac = float(num) / float(denom)\n",
    "        return whole - frac if whole < 0 else whole + frac\n",
    "\n",
    "\n",
    "\n",
    "def process_single_num( ans, eqn_list, index):\n",
    "    alphas = ['a', 'b', 'c', 'd', 'e', 'f', 'g', 'h', 'i', 'j', 'k', 'l', 'm', 'n', 'o', 'p', 'q', 'r', 's', 't', 'u', 'v', 'w', 'x', 'y', 'z']\n",
    "    try:\n",
    "        float(ans)\n",
    "        return ans, eqn_list\n",
    "    except:\n",
    "        if '%' in ans:\n",
    "            if ans.find('/') > 0:\n",
    "                ans = convert_to_float(ans.split('%')[0])\n",
    "                return str(ans), eqn_list\n",
    "            ans = ans[:-1]\n",
    "            for itr_a in range(len(eqn_list)):\n",
    "                if eqn_list[itr_a] == ans:\n",
    "                    eqn_list[itr_a] = 'temp_' + alphas[index]\n",
    "            if len(ans.split(\"%\")) > 1:\n",
    "                ans = str(ans.split(\"%\")[0]) \n",
    "            ans = float(ans)/100\n",
    "            for itr_a in range(len(eqn_list)):\n",
    "                if eqn_list[itr_a] == str(ans):\n",
    "                    eqn_list[itr_a] = 'temp_' + alphas[index]\n",
    "            return str(ans), eqn_list\n",
    "        else:\n",
    "            s_1 = ans.find('/')\n",
    "            if s_1 >0 and validate(ans):\n",
    "                ans = convert_to_float(ans)\n",
    "            return str(ans), eqn_list\n",
    "\n",
    "\n",
    "def process_num_list( num_list, eqn_list):\n",
    "    new_num_list = []\n",
    "    i = 0\n",
    "    for num in num_list:\n",
    "        num, eqn_list =process_single_num(num, eqn_list, i)\n",
    "        new_num_list.append(num)\n",
    "        i += 1\n",
    "    return new_num_list, eqn_list\n",
    "\n",
    "def check_ans( num_list, template, ans):\n",
    "    alphabets = 'abcdefghijklmnopqrstuvwxyz'\n",
    "    new_equ = []\n",
    "    for elem in template:\n",
    "        if 'temp' in elem:\n",
    "            new_equ.append(str(num_list[alphabets.find(elem[-1])]))\n",
    "        else:\n",
    "            new_equ.append(elem)\n",
    "    return equ_api_1(new_equ, ans)"
   ]
  },
  {
   "cell_type": "code",
   "execution_count": 513,
   "metadata": {},
   "outputs": [],
   "source": [
    "def postfix_equation(equ_list):\n",
    "    try:\n",
    "        equ_list = equ_list[2:]\n",
    "        stack = []\n",
    "        post_equ = []\n",
    "        op_list = ['+', '-', '*', '/', '^']\n",
    "        priori = {'^': 3, '*': 2, '/': 2, '+': 1, '-': 1}\n",
    "        for elem in equ_list:\n",
    "            if elem == '(':\n",
    "                stack.append('(')\n",
    "            elif elem == ')':\n",
    "                while 1:\n",
    "                    op = stack.pop()\n",
    "                    if op == '(':\n",
    "                        break\n",
    "                    else:\n",
    "                        post_equ.append(op)\n",
    "            elif elem in op_list:\n",
    "                while 1:\n",
    "                    if not stack:\n",
    "                        break\n",
    "                    elif stack[-1] == '(':\n",
    "                        break\n",
    "                    elif priori[elem] > priori[stack[-1]]:\n",
    "                        break\n",
    "                    else:\n",
    "                        op = stack.pop()\n",
    "                        post_equ.append(op)\n",
    "                stack.append(elem)\n",
    "            else:\n",
    "                post_equ.append(elem)\n",
    "        while stack:\n",
    "            post_equ.append(stack.pop())\n",
    "        return post_equ\n",
    "    except:\n",
    "        print(equ_list)\n",
    "        return None"
   ]
  },
  {
   "cell_type": "code",
   "execution_count": 514,
   "metadata": {
    "scrolled": true
   },
   "outputs": [
    {
     "name": "stdout",
     "output_type": "stream",
     "text": [
      "13/38\n",
      "0.34210526315789475\n"
     ]
    },
    {
     "data": {
      "text/plain": [
       "865"
      ]
     },
     "execution_count": 514,
     "metadata": {},
     "output_type": "execute_result"
    }
   ],
   "source": [
    "i=0\n",
    "for key in df_dict:\n",
    "    if(key in [487,729, 971]):\n",
    "        continue\n",
    "    elem = df_dict[key]\n",
    "    elem_tuple = elem['tuple']\n",
    "    df_dict[key] = {'text':'','target_template':[],'gen_template':[],'num_list':[],'ans':0}\n",
    "    df_dict[key]['text'] = ' '.join(elem_tuple[0]) # str\n",
    "    df_dict[key]['numtemp_order'] = elem_tuple[4]\n",
    "    df_dict[key]['num_position'] = elem_tuple[5]\n",
    "    (df_dict[key]['num_list'], df_dict[key]['target_template']) = process_num_list(elem_tuple[2], elem_tuple[1]) # [float, float]\n",
    "    if(key==119):\n",
    "        print(elem['solution'])\n",
    "        print(process_ans(elem['solution'],False))\n",
    "    df_dict[key]['post_template'] = postfix_equation(df_dict[key]['target_template'])\n",
    "    df_dict[key]['ans'] = process_ans(elem['solution'],False) # float \n",
    "len(df_dict)"
   ]
  },
  {
   "cell_type": "code",
   "execution_count": 515,
   "metadata": {},
   "outputs": [
    {
     "data": {
      "text/plain": [
       "204"
      ]
     },
     "execution_count": 515,
     "metadata": {},
     "output_type": "execute_result"
    }
   ],
   "source": [
    "df_dict_new = {}\n",
    "ids=[]\n",
    "tokens_allowed = ['+', '*', '-', '/', '1','100', 'PI', 'temp_m', 'temp_l', 'temp_o', 'temp_n', 'temp_i', 'temp_h', 'temp_k', 'temp_j', 'temp_e', 'temp_d', 'temp_g', 'temp_f', 'temp_a', 'temp_c', 'temp_b', '^']\n",
    "for el in df_dict:\n",
    "    if(el in [487,729, 971]):\n",
    "        continue \n",
    "    temp_list = df_dict[el][\"target_template\"]\n",
    "    temp_list=temp_list[2:]\n",
    "    \n",
    "    flag=0\n",
    "    for sym in temp_list:\n",
    "        if(sym not in tokens_allowed):\n",
    "            flag=1\n",
    "            ids.append(el)\n",
    "            break\n",
    "    if(flag==1):\n",
    "        continue\n",
    "    else:\n",
    "        df_dict_new[el] = df_dict[el]\n",
    "len(df_dict_new)"
   ]
  },
  {
   "cell_type": "code",
   "execution_count": 516,
   "metadata": {},
   "outputs": [
    {
     "data": {
      "text/plain": [
       "(204, 659)"
      ]
     },
     "execution_count": 516,
     "metadata": {},
     "output_type": "execute_result"
    }
   ],
   "source": [
    "len(df_dict_new),len(ids)"
   ]
  },
  {
   "cell_type": "code",
   "execution_count": 525,
   "metadata": {},
   "outputs": [
    {
     "data": {
      "text/plain": [
       "(192, 8)"
      ]
     },
     "execution_count": 525,
     "metadata": {},
     "output_type": "execute_result"
    }
   ],
   "source": [
    "dff = pd.DataFrame.from_dict(df_dict_new)\n",
    "dff = dff.T\n",
    "\n",
    "def checkFormat(x):\n",
    "    if(x[-1].isalpha() and x[-2]=='='):\n",
    "        return False\n",
    "    return True\n",
    "dff[\"check\"] = dff[\"target_template\"].apply(lambda x: checkFormat(x))\n",
    "dff[dff[\"check\"]==False].head()\n",
    "dff = dff[dff[\"check\"]==True]\n",
    "dff[dff[\"ans\"]==\"None\"].shape\n",
    "dff = dff[dff[\"ans\"]!=\"None\"]\n",
    "dff = dff.drop([\"check\"],axis=1)\n",
    "dff=dff.reset_index(drop=True)\n",
    "dff.shape"
   ]
  },
  {
   "cell_type": "code",
   "execution_count": 526,
   "metadata": {},
   "outputs": [],
   "source": [
    "datajson = dff.to_json(orient='index')\n",
    "with open(\"dolphin_processed.json\", 'w') as f:\n",
    "    json.dump(datajson, f)"
   ]
  },
  {
   "cell_type": "code",
   "execution_count": 528,
   "metadata": {},
   "outputs": [
    {
     "data": {
      "text/html": [
       "<div>\n",
       "<style scoped>\n",
       "    .dataframe tbody tr th:only-of-type {\n",
       "        vertical-align: middle;\n",
       "    }\n",
       "\n",
       "    .dataframe tbody tr th {\n",
       "        vertical-align: top;\n",
       "    }\n",
       "\n",
       "    .dataframe thead th {\n",
       "        text-align: right;\n",
       "    }\n",
       "</style>\n",
       "<table border=\"1\" class=\"dataframe\">\n",
       "  <thead>\n",
       "    <tr style=\"text-align: right;\">\n",
       "      <th></th>\n",
       "      <th>text</th>\n",
       "      <th>target_template</th>\n",
       "      <th>gen_template</th>\n",
       "      <th>num_list</th>\n",
       "      <th>ans</th>\n",
       "      <th>numtemp_order</th>\n",
       "      <th>num_position</th>\n",
       "      <th>post_template</th>\n",
       "    </tr>\n",
       "  </thead>\n",
       "  <tbody>\n",
       "    <tr>\n",
       "      <th>0</th>\n",
       "      <td>sum temp_a temp_b temp_c is</td>\n",
       "      <td>[x, =, temp_a, +, temp_b, +, temp_c]</td>\n",
       "      <td>[]</td>\n",
       "      <td>[0.1111111111111111, 0.6666666666666666, 0.2777777777777778]</td>\n",
       "      <td>1.056</td>\n",
       "      <td>[temp_a, temp_b, temp_c]</td>\n",
       "      <td>[1, 2, 3]</td>\n",
       "      <td>[temp_a, temp_b, +, temp_c, +]</td>\n",
       "    </tr>\n",
       "    <tr>\n",
       "      <th>1</th>\n",
       "      <td>number temp_a % temp_b</td>\n",
       "      <td>[n, =, temp_a, /, 100, *, temp_b]</td>\n",
       "      <td>[]</td>\n",
       "      <td>[0.17, 200]</td>\n",
       "      <td>34</td>\n",
       "      <td>[temp_a, temp_b]</td>\n",
       "      <td>[1, 2]</td>\n",
       "      <td>[temp_a, 100, /, temp_b, *]</td>\n",
       "    </tr>\n",
       "    <tr>\n",
       "      <th>2</th>\n",
       "      <td>temp_a temp_b</td>\n",
       "      <td>[x, =, temp_a, *, temp_b]</td>\n",
       "      <td>[]</td>\n",
       "      <td>[0.3333333333333333, 0.25]</td>\n",
       "      <td>1.0</td>\n",
       "      <td>[temp_a, temp_b]</td>\n",
       "      <td>[0, 1]</td>\n",
       "      <td>[temp_a, temp_b, *]</td>\n",
       "    </tr>\n",
       "    <tr>\n",
       "      <th>3</th>\n",
       "      <td>temp_a hens together lay a total temp_b eggs a temp_c day period many eggs would temp_d hens lay a temp_e day period</td>\n",
       "      <td>[t, =, temp_d, *, 1, /, temp_a, *, temp_d]</td>\n",
       "      <td>[]</td>\n",
       "      <td>[5, 5, 5, 500, 500]</td>\n",
       "      <td>50000</td>\n",
       "      <td>[temp_a, temp_b, temp_c, temp_d, temp_e]</td>\n",
       "      <td>[0, 6, 9, 15, 19]</td>\n",
       "      <td>[temp_d, 1, *, temp_a, /, temp_d, *]</td>\n",
       "    </tr>\n",
       "    <tr>\n",
       "      <th>4</th>\n",
       "      <td>find area a playground temp_a long temp_b wide</td>\n",
       "      <td>[x, =, temp_a, *, temp_b]</td>\n",
       "      <td>[]</td>\n",
       "      <td>[20, 15]</td>\n",
       "      <td>300</td>\n",
       "      <td>[temp_a, temp_b]</td>\n",
       "      <td>[4, 6]</td>\n",
       "      <td>[temp_a, temp_b, *]</td>\n",
       "    </tr>\n",
       "  </tbody>\n",
       "</table>\n",
       "</div>"
      ],
      "text/plain": [
       "                                                                                                                   text  \\\n",
       "0                                                                                           sum temp_a temp_b temp_c is   \n",
       "1                                                                                                number temp_a % temp_b   \n",
       "2                                                                                                         temp_a temp_b   \n",
       "3  temp_a hens together lay a total temp_b eggs a temp_c day period many eggs would temp_d hens lay a temp_e day period   \n",
       "4                                                                        find area a playground temp_a long temp_b wide   \n",
       "\n",
       "                              target_template gen_template  \\\n",
       "0        [x, =, temp_a, +, temp_b, +, temp_c]           []   \n",
       "1           [n, =, temp_a, /, 100, *, temp_b]           []   \n",
       "2                   [x, =, temp_a, *, temp_b]           []   \n",
       "3  [t, =, temp_d, *, 1, /, temp_a, *, temp_d]           []   \n",
       "4                   [x, =, temp_a, *, temp_b]           []   \n",
       "\n",
       "                                                       num_list     ans  \\\n",
       "0  [0.1111111111111111, 0.6666666666666666, 0.2777777777777778]   1.056   \n",
       "1                                                   [0.17, 200]      34   \n",
       "2                                    [0.3333333333333333, 0.25]     1.0   \n",
       "3                                           [5, 5, 5, 500, 500]   50000   \n",
       "4                                                      [20, 15]     300   \n",
       "\n",
       "                              numtemp_order       num_position  \\\n",
       "0                  [temp_a, temp_b, temp_c]          [1, 2, 3]   \n",
       "1                          [temp_a, temp_b]             [1, 2]   \n",
       "2                          [temp_a, temp_b]             [0, 1]   \n",
       "3  [temp_a, temp_b, temp_c, temp_d, temp_e]  [0, 6, 9, 15, 19]   \n",
       "4                          [temp_a, temp_b]             [4, 6]   \n",
       "\n",
       "                          post_template  \n",
       "0        [temp_a, temp_b, +, temp_c, +]  \n",
       "1           [temp_a, 100, /, temp_b, *]  \n",
       "2                   [temp_a, temp_b, *]  \n",
       "3  [temp_d, 1, *, temp_a, /, temp_d, *]  \n",
       "4                   [temp_a, temp_b, *]  "
      ]
     },
     "execution_count": 528,
     "metadata": {},
     "output_type": "execute_result"
    }
   ],
   "source": [
    "dff.head()"
   ]
  },
  {
   "cell_type": "code",
   "execution_count": 307,
   "metadata": {},
   "outputs": [],
   "source": [
    "datajson = dff.to_json(orient='index')\n",
    "with open(\"dolphin_processed.json\", 'w') as f:\n",
    "    json.dump(datajson, f)"
   ]
  },
  {
   "cell_type": "code",
   "execution_count": null,
   "metadata": {},
   "outputs": [],
   "source": []
  }
 ],
 "metadata": {
  "kernelspec": {
   "display_name": "Python 3",
   "language": "python",
   "name": "python3"
  },
  "language_info": {
   "codemirror_mode": {
    "name": "ipython",
    "version": 3
   },
   "file_extension": ".py",
   "mimetype": "text/x-python",
   "name": "python",
   "nbconvert_exporter": "python",
   "pygments_lexer": "ipython3",
   "version": "3.7.4"
  }
 },
 "nbformat": 4,
 "nbformat_minor": 2
}

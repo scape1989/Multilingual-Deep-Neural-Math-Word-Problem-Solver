{
 "cells": [
  {
   "cell_type": "code",
   "execution_count": 1,
   "metadata": {},
   "outputs": [],
   "source": [
    "import pandas as pd\n",
    "import numpy as np\n",
    "import re\n",
    "import json\n",
    "import nltk\n",
    "from word2number import w2n\n",
    "from nltk.stem.snowball import SnowballStemmer\n",
    "import random"
   ]
  },
  {
   "cell_type": "code",
   "execution_count": 4,
   "metadata": {},
   "outputs": [],
   "source": [
    "with open(\"../data/math23k_dolphin.json\",'r') as f:\n",
    "    dff = json.load(f)\n",
    "dff = pd.read_json(dff)\n",
    "dff = dff.T"
   ]
  },
  {
   "cell_type": "code",
   "execution_count": 5,
   "metadata": {},
   "outputs": [],
   "source": [
    "def postfix_equation(equ_list):\n",
    "    stack = []\n",
    "    post_equ = []\n",
    "    op_list = ['+', '-', '*', '/', '^']\n",
    "    priori = {'^': 3, '*': 2, '/': 2, '+': 1, '-': 1}\n",
    "    for elem in equ_list:\n",
    "        if elem == '(':\n",
    "            stack.append('(')\n",
    "        elif elem == ')':\n",
    "            while 1:\n",
    "                op = stack.pop()\n",
    "                if op == '(':\n",
    "                    break\n",
    "                else:\n",
    "                    post_equ.append(op)\n",
    "        elif elem in op_list:\n",
    "            while 1:\n",
    "                if not stack:\n",
    "                    break\n",
    "                elif stack[-1] == '(':\n",
    "                    break\n",
    "                elif priori[elem] > priori[stack[-1]]:\n",
    "                    break\n",
    "                else:\n",
    "                    op = stack.pop()\n",
    "                    post_equ.append(op)\n",
    "            stack.append(elem)\n",
    "        else:\n",
    "            post_equ.append(elem)\n",
    "    while stack:\n",
    "        post_equ.append(stack.pop())\n",
    "    return post_equ\n",
    "\n",
    "def post_solver(post_equ):\n",
    "    try:\n",
    "        stack = [] \n",
    "        op_list = ['+', '-', '/', '*', '^']\n",
    "        for elem in post_equ:\n",
    "            if elem not in op_list:\n",
    "                op_v = elem\n",
    "                if '%' in op_v:\n",
    "                    op_v = float(op_v[:-1])/100.0\n",
    "                stack.append(str(op_v))\n",
    "            elif elem in op_list:\n",
    "                op_v_1 = stack.pop()\n",
    "                op_v_1 = float(op_v_1)\n",
    "                op_v_2 = stack.pop()\n",
    "                op_v_2 = float(op_v_2)\n",
    "                if elem == '+':\n",
    "                    stack.append(str(op_v_2+op_v_1))\n",
    "                elif elem == '-':\n",
    "                    stack.append(str(op_v_2-op_v_1))\n",
    "                elif elem == '*':\n",
    "                    stack.append(str(op_v_2*op_v_1))\n",
    "                elif elem == '/':\n",
    "                    if op_v_1 == 0:\n",
    "                        return nan\n",
    "                    stack.append(str(op_v_2/op_v_1))\n",
    "                else:\n",
    "                    stack.append(str(op_v_2**op_v_1))\n",
    "        return stack.pop()\n",
    "    except:\n",
    "        return None\n",
    "\n",
    "def getBaseline(lst,flag=False):\n",
    "    if(flag):\n",
    "        lst = list(np.random.permutation(lst))\n",
    "    ops = ['-','+','*','/']\n",
    "    ops_nodiv = ['-','+','*']\n",
    "    eq_list = [str(lst[0])]\n",
    "    for i in range(1,len(lst)):\n",
    "        if(lst[i][0]=='0'):\n",
    "            op = random.choice(ops_nodiv)\n",
    "        else:\n",
    "            op = random.choice(ops)\n",
    "        eq_list.append(op)\n",
    "        eq_list.append(str(lst[i]))\n",
    "    peq = postfix_equation(eq_list)\n",
    "    return post_solver(peq) "
   ]
  },
  {
   "cell_type": "code",
   "execution_count": 7,
   "metadata": {},
   "outputs": [
    {
     "data": {
      "text/plain": [
       "0.06972352085203876"
      ]
     },
     "execution_count": 7,
     "metadata": {},
     "output_type": "execute_result"
    }
   ],
   "source": [
    "best = 0.0\n",
    "for i in range(10):\n",
    "    dff[\"baseline\"] = dff[\"num_list\"].apply(lambda x : getBaseline(x,True))\n",
    "    a_ = dff[\"ans\"]\n",
    "    b_ = dff[\"baseline\"]\n",
    "    a,b = [],[]\n",
    "    for i in range(len(a_)):\n",
    "        if ';' in a_[i] or 'e' in a_[i]:\n",
    "            continue\n",
    "        if b_[i] is None:\n",
    "            continue\n",
    "        a.append(a_[i])\n",
    "        b.append(b_[i])\n",
    "    a = [int(float(x)) for x in a]\n",
    "    b = [int(float(x)) for x in b]\n",
    "    acc = sum(1 for x,y in zip(a,b) if x == y) / len(a)\n",
    "    if(acc>best):\n",
    "        best=acc\n",
    "best\n",
    "    "
   ]
  },
  {
   "cell_type": "code",
   "execution_count": 8,
   "metadata": {},
   "outputs": [
    {
     "data": {
      "text/plain": [
       "0.07381033468528438"
      ]
     },
     "execution_count": 8,
     "metadata": {},
     "output_type": "execute_result"
    }
   ],
   "source": [
    "best = 0.0\n",
    "for i in range(10):\n",
    "    dff[\"baseline\"] = dff[\"num_list\"].apply(lambda x : getBaseline(x,False))\n",
    "    a_ = dff[\"ans\"]\n",
    "    b_ = dff[\"baseline\"]\n",
    "    a,b = [],[]\n",
    "    for i in range(len(a_)):\n",
    "        if ';' in a_[i] or 'e' in a_[i]:\n",
    "            continue\n",
    "        if b_[i] is None:\n",
    "            continue\n",
    "        a.append(a_[i])\n",
    "        b.append(b_[i])\n",
    "    a = [int(float(x)) for x in a]\n",
    "    b = [int(float(x)) for x in b]\n",
    "    acc = sum(1 for x,y in zip(a,b) if x == y) / len(a)\n",
    "    if(acc>best):\n",
    "        best=acc\n",
    "best"
   ]
  },
  {
   "cell_type": "code",
   "execution_count": null,
   "metadata": {},
   "outputs": [],
   "source": []
  }
 ],
 "metadata": {
  "kernelspec": {
   "display_name": "Python 3",
   "language": "python",
   "name": "python3"
  },
  "language_info": {
   "codemirror_mode": {
    "name": "ipython",
    "version": 3
   },
   "file_extension": ".py",
   "mimetype": "text/x-python",
   "name": "python",
   "nbconvert_exporter": "python",
   "pygments_lexer": "ipython3",
   "version": "3.7.4"
  }
 },
 "nbformat": 4,
 "nbformat_minor": 4
}
